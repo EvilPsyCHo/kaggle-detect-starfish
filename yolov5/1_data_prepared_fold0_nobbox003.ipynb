{
 "cells": [
  {
   "cell_type": "code",
   "execution_count": 1,
   "id": "00b67c67",
   "metadata": {},
   "outputs": [],
   "source": [
    "import numpy as np\n",
    "from tqdm.notebook import tqdm\n",
    "tqdm.pandas()\n",
    "import pandas as pd\n",
    "import os\n",
    "import cv2\n",
    "import matplotlib.pyplot as plt\n",
    "import glob\n",
    "import torch\n",
    "import shutil\n",
    "import sys\n",
    "import random\n",
    "from joblib import Parallel, delayed\n",
    "from IPython.display import display, HTML\n",
    "from matplotlib import animation, rc\n",
    "from pathlib import Path\n",
    "\n",
    "sys.path.append('../input/tensorflow-great-barrier-reef')\n",
    "rc('animation', html='jshtml')"
   ]
  },
  {
   "cell_type": "code",
   "execution_count": 2,
   "id": "a954ce5e",
   "metadata": {},
   "outputs": [],
   "source": [
    "!pip install -qU bbox-utility"
   ]
  },
  {
   "cell_type": "code",
   "execution_count": 3,
   "id": "1d16598c",
   "metadata": {},
   "outputs": [],
   "source": [
    "# check https://github.com/awsaf49/bbox for source code of following utility functions\n",
    "from bbox.utils import coco2yolo, coco2voc, voc2yolo\n",
    "from bbox.utils import draw_bboxes, load_image\n",
    "from bbox.utils import clip_bbox, str2annot, annot2str"
   ]
  },
  {
   "cell_type": "markdown",
   "id": "6b7b9619",
   "metadata": {},
   "source": [
    "# Config"
   ]
  },
  {
   "cell_type": "code",
   "execution_count": 4,
   "id": "80329792",
   "metadata": {},
   "outputs": [],
   "source": [
    "FOLD      = 0\n",
    "DIM       = 1280\n",
    "RANDOM_SEED  = 42\n",
    "NOBBOX = 0.03\n",
    "SOURCE_DIR  = '/home/kky/kaggle/kaggle-detect-starfish/input/tensorflow-great-barrier-reef/'\n",
    "DATA_DIR = '/home/kky/kaggle/kaggle-detect-starfish/input/yolov5_fold0_nobbox003/'"
   ]
  },
  {
   "cell_type": "code",
   "execution_count": 5,
   "id": "57b972bf",
   "metadata": {},
   "outputs": [],
   "source": [
    "(Path(DATA_DIR) / \"images/train\").mkdir(parents=True, exist_ok=True)\n",
    "(Path(DATA_DIR) / \"images/val\").mkdir(parents=True, exist_ok=True)\n",
    "(Path(DATA_DIR) / \"labels/train\").mkdir(parents=True, exist_ok=True)\n",
    "(Path(DATA_DIR) / \"labels/val\").mkdir(parents=True, exist_ok=True)"
   ]
  },
  {
   "cell_type": "code",
   "execution_count": 6,
   "id": "03d38510",
   "metadata": {},
   "outputs": [],
   "source": [
    "def seed_everything(seed):\n",
    "    random.seed(seed)\n",
    "    os.environ['PYTHONHASHSEED'] = str(seed)\n",
    "    np.random.seed(seed)\n",
    "    torch.manual_seed(seed)\n",
    "    torch.cuda.manual_seed(seed)\n",
    "    torch.backends.cudnn.deterministic = True\n",
    "\n",
    "seed_everything(RANDOM_SEED)"
   ]
  },
  {
   "cell_type": "markdown",
   "id": "b4fad6ca",
   "metadata": {},
   "source": [
    "# Process data"
   ]
  },
  {
   "cell_type": "code",
   "execution_count": 7,
   "id": "e3616b73",
   "metadata": {},
   "outputs": [
    {
     "data": {
      "application/vnd.jupyter.widget-view+json": {
       "model_id": "4433474e32c142d0b256c986386ee432",
       "version_major": 2,
       "version_minor": 0
      },
      "text/plain": [
       "  0%|          | 0/23501 [00:00<?, ?it/s]"
      ]
     },
     "metadata": {},
     "output_type": "display_data"
    },
    {
     "name": "stdout",
     "output_type": "stream",
     "text": [
      "No BBox: 79.07% | With BBox: 20.93%\n"
     ]
    }
   ],
   "source": [
    "# Train Data\n",
    "df = pd.read_csv(f'{SOURCE_DIR}train.csv')\n",
    "df['old_image_path'] = f'{SOURCE_DIR}train_images/video_'+df.video_id.astype(str)+'/'+df.video_frame.astype(str)+'.jpg'\n",
    "df['annotations'] = df['annotations'].apply(eval)\n",
    "df['num_bbox'] = df['annotations'].progress_apply(lambda x: len(x))\n",
    "data = (df.num_bbox>0).value_counts(normalize=True)*100\n",
    "print(f\"No BBox: {data[0]:0.2f}% | With BBox: {data[1]:0.2f}%\")"
   ]
  },
  {
   "cell_type": "code",
   "execution_count": 8,
   "id": "54646df4",
   "metadata": {},
   "outputs": [],
   "source": [
    "# Drop nobbox images\n",
    "df['num_annotations'] = df['annotations'].apply(len)\n",
    "\n",
    "sub1 = df.loc[df.num_annotations > 0].copy()\n",
    "sub2 = df.loc[df.num_annotations == 0].copy()\n",
    "\n",
    "sub2 = sub2.sample(frac=NOBBOX, random_state=RANDOM_SEED)\n",
    "df = pd.concat([sub1, sub2], axis=0)\n",
    "df = df.reset_index(drop=True)"
   ]
  },
  {
   "cell_type": "code",
   "execution_count": 9,
   "id": "b4530fba",
   "metadata": {},
   "outputs": [],
   "source": [
    "def get_bbox(annots):\n",
    "    bboxes = [list(annot.values()) for annot in annots]\n",
    "    return bboxes\n",
    "\n",
    "def get_imgsize(row):\n",
    "    row['width'], row['height'] = imagesize.get(row['image_path'])\n",
    "    return row\n",
    "\n",
    "colors = [(np.random.randint(255), np.random.randint(255), np.random.randint(255))\\\n",
    "          for idx in range(1)]"
   ]
  },
  {
   "cell_type": "code",
   "execution_count": 10,
   "id": "ba1a2a3b",
   "metadata": {},
   "outputs": [
    {
     "data": {
      "application/vnd.jupyter.widget-view+json": {
       "model_id": "02d9fec788d141c19a49d3b19470fe06",
       "version_major": 2,
       "version_minor": 0
      },
      "text/plain": [
       "  0%|          | 0/5476 [00:00<?, ?it/s]"
      ]
     },
     "metadata": {},
     "output_type": "display_data"
    }
   ],
   "source": [
    "df['bboxes'] = df.annotations.progress_apply(get_bbox)\n",
    "df['width']  = 1280\n",
    "df['height'] = 720"
   ]
  },
  {
   "cell_type": "markdown",
   "id": "5d912391",
   "metadata": {},
   "source": [
    "# Split"
   ]
  },
  {
   "cell_type": "code",
   "execution_count": 11,
   "id": "7dcf98f3",
   "metadata": {},
   "outputs": [],
   "source": [
    "folds = pd.read_csv(\"../input/train-5folds.csv\")\n",
    "df = df.merge(folds[['image_id', 'fold']], how='left')"
   ]
  },
  {
   "cell_type": "code",
   "execution_count": 12,
   "id": "0ff65db3",
   "metadata": {},
   "outputs": [],
   "source": [
    "df['fold'] = df['fold'].apply(lambda x: 'train' if x != FOLD else 'val')"
   ]
  },
  {
   "cell_type": "code",
   "execution_count": 13,
   "id": "ca91f7dc",
   "metadata": {},
   "outputs": [
    {
     "data": {
      "text/plain": [
       "train    4505\n",
       "val       971\n",
       "Name: fold, dtype: int64"
      ]
     },
     "execution_count": 13,
     "metadata": {},
     "output_type": "execute_result"
    }
   ],
   "source": [
    "df.fold.value_counts()"
   ]
  },
  {
   "cell_type": "code",
   "execution_count": 14,
   "id": "49138b69",
   "metadata": {},
   "outputs": [],
   "source": [
    "df['image_path'] = f'{DATA_DIR}'+ 'images/'+ df.fold + '/' + df.image_id+'.jpg'\n",
    "df['label_path'] = f'{DATA_DIR}'+ 'labels/'+ df.fold + '/' + df.image_id+'.txt'"
   ]
  },
  {
   "cell_type": "code",
   "execution_count": 16,
   "id": "1dd4ad8b",
   "metadata": {},
   "outputs": [],
   "source": [
    "df.to_csv(DATA_DIR + \"train.csv\")"
   ]
  },
  {
   "cell_type": "markdown",
   "id": "0167d3f9",
   "metadata": {},
   "source": [
    "# Save"
   ]
  },
  {
   "cell_type": "code",
   "execution_count": 17,
   "id": "fe160f56",
   "metadata": {},
   "outputs": [
    {
     "data": {
      "application/vnd.jupyter.widget-view+json": {
       "model_id": "e064c873b1c747209365aafd1d3314bf",
       "version_major": 2,
       "version_minor": 0
      },
      "text/plain": [
       "  0%|          | 0/5476 [00:00<?, ?it/s]"
      ]
     },
     "metadata": {},
     "output_type": "display_data"
    },
    {
     "name": "stdout",
     "output_type": "stream",
     "text": [
      "Missing: 557\n"
     ]
    }
   ],
   "source": [
    "cnt = 0\n",
    "all_bboxes = []\n",
    "bboxes_info = []\n",
    "for row_idx in tqdm(range(df.shape[0])):\n",
    "    row = df.iloc[row_idx]\n",
    "    image_height = row.height\n",
    "    image_width  = row.width\n",
    "    bboxes_coco  = np.array(row.bboxes).astype(np.float32).copy()\n",
    "    num_bbox     = len(bboxes_coco)\n",
    "    names        = ['cots']*num_bbox\n",
    "    labels       = np.array([0]*num_bbox)[..., None].astype(str)\n",
    "    ## Create Annotation(YOLO)\n",
    "    with open(row.label_path, 'w') as f:\n",
    "        if num_bbox<1:\n",
    "            annot = ''\n",
    "            f.write(annot)\n",
    "            cnt+=1\n",
    "            continue\n",
    "        bboxes_voc  = coco2voc(bboxes_coco, image_height, image_width)\n",
    "        bboxes_voc  = clip_bbox(bboxes_voc, image_height, image_width)\n",
    "        bboxes_yolo = voc2yolo(bboxes_voc, image_height, image_width).astype(str)\n",
    "        all_bboxes.extend(bboxes_yolo.astype(float))\n",
    "        bboxes_info.extend([[row.image_id, row.video_id, row.sequence]]*len(bboxes_yolo))\n",
    "        annots = np.concatenate([labels, bboxes_yolo], axis=1)\n",
    "        string = annot2str(annots)\n",
    "        f.write(string)\n",
    "print('Missing:',cnt)"
   ]
  },
  {
   "cell_type": "code",
   "execution_count": 18,
   "id": "3b626122",
   "metadata": {},
   "outputs": [
    {
     "data": {
      "application/vnd.jupyter.widget-view+json": {
       "model_id": "279c210f8e8f4081ac4e99536d3c945f",
       "version_major": 2,
       "version_minor": 0
      },
      "text/plain": [
       "  0%|          | 0/5476 [00:00<?, ?it/s]"
      ]
     },
     "metadata": {},
     "output_type": "display_data"
    }
   ],
   "source": [
    "def make_copy(row):\n",
    "    shutil.copyfile(row.old_image_path, row.image_path)\n",
    "    return\n",
    "\n",
    "\n",
    "image_paths = df.old_image_path.tolist()\n",
    "_ = Parallel(n_jobs=-1, backend='threading')(delayed(make_copy)(row) for _, row in tqdm(df.iterrows(), total=len(df)))"
   ]
  },
  {
   "cell_type": "code",
   "execution_count": 19,
   "id": "b92b360f",
   "metadata": {},
   "outputs": [
    {
     "name": "stdout",
     "output_type": "stream",
     "text": [
      "Overwriting /home/kky/kaggle/kaggle-detect-starfish/input/yolov5_fold0_nobbox003/data.yaml\n"
     ]
    }
   ],
   "source": [
    "%%writefile /home/kky/kaggle/kaggle-detect-starfish/input/yolov5_fold0_nobbox003/data.yaml\n",
    "\n",
    "path: /home/kky/kaggle/kaggle-detect-starfish/input/yolov5_fold0_nobbox003  # dataset root dir\n",
    "train: images/train  # train images (relative to 'path') 128 images\n",
    "val: images/val  # val images (relative to 'path') 128 images\n",
    "test:  # test images (optional)\n",
    "\n",
    "# Classes\n",
    "nc: 1  # number of classes\n",
    "names: ['cots']  # class names"
   ]
  },
  {
   "cell_type": "code",
   "execution_count": null,
   "id": "b64c406a",
   "metadata": {},
   "outputs": [],
   "source": []
  }
 ],
 "metadata": {
  "kernelspec": {
   "display_name": "Python 3 (ipykernel)",
   "language": "python",
   "name": "python3"
  },
  "language_info": {
   "codemirror_mode": {
    "name": "ipython",
    "version": 3
   },
   "file_extension": ".py",
   "mimetype": "text/x-python",
   "name": "python",
   "nbconvert_exporter": "python",
   "pygments_lexer": "ipython3",
   "version": "3.8.0"
  }
 },
 "nbformat": 4,
 "nbformat_minor": 5
}
