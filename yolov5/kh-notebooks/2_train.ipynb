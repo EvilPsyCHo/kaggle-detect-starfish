{
 "cells": [
  {
   "cell_type": "markdown",
   "id": "8068ad56",
   "metadata": {},
   "source": [
    "# Config"
   ]
  },
  {
   "cell_type": "code",
   "execution_count": 1,
   "id": "d421dc07",
   "metadata": {},
   "outputs": [
    {
     "name": "stdout",
     "output_type": "stream",
     "text": [
      "Overwriting ./working/hyp.yaml\n"
     ]
    }
   ],
   "source": [
    "%%writefile ./working/hyp.yaml\n",
    "\n",
    "# YOLOv5 by Ultralytics, GPL-3.0 license\n",
    "# Hyperparameters for COCO training from scratch\n",
    "# python train.py --batch 40 --cfg yolov5m.yaml --weights '' --data coco.yaml --img 640 --epochs 300\n",
    "# See tutorials for hyperparameter evolution https://github.com/ultralytics/yolov5#tutorials\n",
    "\n",
    "lr0: 0.01  # initial learning rate (SGD=1E-2, Adam=1E-3)\n",
    "lrf: 0.1  # final OneCycleLR learning rate (lr0 * lrf)\n",
    "momentum: 0.937  # SGD momentum/Adam beta1\n",
    "weight_decay: 0.0005  # optimizer weight decay 5e-4\n",
    "warmup_epochs: 3.0  # warmup epochs (fractions ok)\n",
    "warmup_momentum: 0.8  # warmup initial momentum\n",
    "warmup_bias_lr: 0.1  # warmup initial bias lr\n",
    "box: 0.05  # box loss gain\n",
    "cls: 0.5  # cls loss gain\n",
    "cls_pw: 1.0  # cls BCELoss positive_weight\n",
    "obj: 1.0  # obj loss gain (scale with pixels)\n",
    "obj_pw: 1.0  # obj BCELoss positive_weight\n",
    "iou_t: 0.20  # IoU training threshold\n",
    "anchor_t: 4.0  # anchor-multiple threshold\n",
    "# anchors: 3  # anchors per output layer (0 to ignore)\n",
    "fl_gamma: 0.0  # focal loss gamma (efficientDet default gamma=1.5)\n",
    "hsv_h: 0.015  # image HSV-Hue augmentation (fraction)\n",
    "hsv_s: 0.7  # image HSV-Saturation augmentation (fraction)\n",
    "hsv_v: 0.4  # image HSV-Value augmentation (fraction)\n",
    "degrees: 0.0  # image rotation (+/- deg)\n",
    "translate: 0.1  # image translation (+/- fraction)\n",
    "scale: 0.5  # image scale (+/- gain)\n",
    "shear: 0.0  # image shear (+/- deg)\n",
    "perspective: 0.0  # image perspective (+/- fraction), range 0-0.001\n",
    "flipud: 0.5  # image flip up-down (probability)\n",
    "fliplr: 0.5  # image flip left-right (probability)\n",
    "mosaic: 1.0  # image mosaic (probability)\n",
    "mixup: 0.5  # image mixup (probability)\n",
    "copy_paste: 0.0  # segment copy-paste (probability)"
   ]
  },
  {
   "cell_type": "code",
   "execution_count": 2,
   "id": "45f4d72d",
   "metadata": {},
   "outputs": [
    {
     "name": "stdout",
     "output_type": "stream",
     "text": [
      "Overwriting ./working/yolov5s6.yaml\n"
     ]
    }
   ],
   "source": [
    "%%writefile ./working/yolov5s6.yaml\n",
    "\n",
    "\n",
    "# YOLOv5 🚀 by Ultralytics, GPL-3.0 license\n",
    "\n",
    "# Parameters\n",
    "nc: 1  # number of classes\n",
    "depth_multiple: 0.33  # model depth multiple\n",
    "width_multiple: 0.50  # layer channel multiple\n",
    "anchors:\n",
    "  - [19,27,  44,40,  38,94]  # P3/8\n",
    "  - [96,68,  86,152,  180,137]  # P4/16\n",
    "  - [140,301,  303,264,  238,542]  # P5/32\n",
    "  - [436,615,  739,380,  925,792]  # P6/64\n",
    "\n",
    "# YOLOv5 v6.0 backbone\n",
    "backbone:\n",
    "  # [from, number, module, args]\n",
    "  [[-1, 1, Conv, [64, 6, 2, 2]],  # 0-P1/2\n",
    "   [-1, 1, Conv, [128, 3, 2]],  # 1-P2/4\n",
    "   [-1, 3, C3, [128]],\n",
    "   [-1, 1, Conv, [256, 3, 2]],  # 3-P3/8\n",
    "   [-1, 6, C3, [256]],\n",
    "   [-1, 1, Conv, [512, 3, 2]],  # 5-P4/16\n",
    "   [-1, 9, C3, [512]],\n",
    "   [-1, 1, Conv, [768, 3, 2]],  # 7-P5/32\n",
    "   [-1, 3, C3, [768]],\n",
    "   [-1, 1, Conv, [1024, 3, 2]],  # 9-P6/64\n",
    "   [-1, 3, C3, [1024]],\n",
    "   [-1, 1, SPPF, [1024, 5]],  # 11\n",
    "  ]\n",
    "\n",
    "# YOLOv5 v6.0 head\n",
    "head:\n",
    "  [[-1, 1, Conv, [768, 1, 1]],\n",
    "   [-1, 1, nn.Upsample, [None, 2, 'nearest']],\n",
    "   [[-1, 8], 1, Concat, [1]],  # cat backbone P5\n",
    "   [-1, 3, C3, [768, False]],  # 15\n",
    "\n",
    "   [-1, 1, Conv, [512, 1, 1]],\n",
    "   [-1, 1, nn.Upsample, [None, 2, 'nearest']],\n",
    "   [[-1, 6], 1, Concat, [1]],  # cat backbone P4\n",
    "   [-1, 3, C3, [512, False]],  # 19\n",
    "\n",
    "   [-1, 1, Conv, [256, 1, 1]],\n",
    "   [-1, 1, nn.Upsample, [None, 2, 'nearest']],\n",
    "   [[-1, 4], 1, Concat, [1]],  # cat backbone P3\n",
    "   [-1, 3, C3, [256, False]],  # 23 (P3/8-small)\n",
    "\n",
    "   [-1, 1, Conv, [256, 3, 2]],\n",
    "   [[-1, 20], 1, Concat, [1]],  # cat head P4\n",
    "   [-1, 3, C3, [512, False]],  # 26 (P4/16-medium)\n",
    "\n",
    "   [-1, 1, Conv, [512, 3, 2]],\n",
    "   [[-1, 16], 1, Concat, [1]],  # cat head P5\n",
    "   [-1, 3, C3, [768, False]],  # 29 (P5/32-large)\n",
    "\n",
    "   [-1, 1, Conv, [768, 3, 2]],\n",
    "   [[-1, 12], 1, Concat, [1]],  # cat head P6\n",
    "   [-1, 3, C3, [1024, False]],  # 32 (P6/64-xlarge)\n",
    "\n",
    "   [[23, 26, 29, 32], 1, Detect, [nc, anchors]],  # Detect(P3, P4, P5, P6)\n",
    "  ]"
   ]
  },
  {
   "cell_type": "code",
   "execution_count": 3,
   "id": "ccc84a9d",
   "metadata": {},
   "outputs": [],
   "source": [
    "image_size = 3600\n",
    "batch_size = 4\n",
    "epochs = 5\n",
    "data = \"../input/yolov5_public_fold1/data.yaml\"\n",
    "hyper_params = \"./working/hyp.yaml\"\n",
    "model_config = \"./working/yolov5s6.yaml\"\n",
    "weights = \"./checkpoints/yolov5s6.pt\"\n",
    "run_name = \"yolov5s6_e5_bs4_lr01_img3600_public_fold1\""
   ]
  },
  {
   "cell_type": "markdown",
   "id": "17870e54",
   "metadata": {},
   "source": [
    "# Train Model"
   ]
  },
  {
   "cell_type": "code",
   "execution_count": 4,
   "id": "3f834812",
   "metadata": {},
   "outputs": [],
   "source": [
    "import os\n",
    "os.environ['CUDA_VISIBLE_DEVICES'] = \"1\""
   ]
  },
  {
   "cell_type": "code",
   "execution_count": 5,
   "id": "1dfb8b82",
   "metadata": {},
   "outputs": [
    {
     "data": {
      "text/plain": [
       "'\\nusage: train.py [-h] [--weights WEIGHTS] [--cfg CFG] [--data DATA] [--hyp HYP]\\n                [--epochs EPOCHS] [--batch-size BATCH_SIZE] [--imgsz IMGSZ]\\n                [--rect] [--resume [RESUME]] [--nosave] [--noval]\\n                [--noautoanchor] [--evolve [EVOLVE]] [--bucket BUCKET]\\n                [--cache [CACHE]] [--image-weights] [--device DEVICE]\\n                [--multi-scale] [--single-cls] [--adam] [--sync-bn]\\n                [--workers WORKERS] [--project PROJECT] [--name NAME]\\n                [--exist-ok] [--quad] [--linear-lr]\\n                [--label-smoothing LABEL_SMOOTHING] [--patience PATIENCE]\\n                [--freeze FREEZE [FREEZE ...]] [--save-period SAVE_PERIOD]\\n                [--local_rank LOCAL_RANK] [--entity ENTITY]\\n                [--upload_dataset [UPLOAD_DATASET]]\\n                [--bbox_interval BBOX_INTERVAL]\\n                [--artifact_alias ARTIFACT_ALIAS]\\n'"
      ]
     },
     "execution_count": 5,
     "metadata": {},
     "output_type": "execute_result"
    }
   ],
   "source": [
    "'''\n",
    "usage: train.py [-h] [--weights WEIGHTS] [--cfg CFG] [--data DATA] [--hyp HYP]\n",
    "                [--epochs EPOCHS] [--batch-size BATCH_SIZE] [--imgsz IMGSZ]\n",
    "                [--rect] [--resume [RESUME]] [--nosave] [--noval]\n",
    "                [--noautoanchor] [--evolve [EVOLVE]] [--bucket BUCKET]\n",
    "                [--cache [CACHE]] [--image-weights] [--device DEVICE]\n",
    "                [--multi-scale] [--single-cls] [--adam] [--sync-bn]\n",
    "                [--workers WORKERS] [--project PROJECT] [--name NAME]\n",
    "                [--exist-ok] [--quad] [--linear-lr]\n",
    "                [--label-smoothing LABEL_SMOOTHING] [--patience PATIENCE]\n",
    "                [--freeze FREEZE [FREEZE ...]] [--save-period SAVE_PERIOD]\n",
    "                [--local_rank LOCAL_RANK] [--entity ENTITY]\n",
    "                [--upload_dataset [UPLOAD_DATASET]]\n",
    "                [--bbox_interval BBOX_INTERVAL]\n",
    "                [--artifact_alias ARTIFACT_ALIAS]\n",
    "'''"
   ]
  },
  {
   "cell_type": "code",
   "execution_count": 6,
   "id": "75a4d58e",
   "metadata": {
    "scrolled": false
   },
   "outputs": [
    {
     "data": {
      "text/plain": [
       "'python train.py --img 3600 --cfg ./working/yolov5s6.yaml --batch 4 --epochs 5 --save-period 1 --data ../input/yolov5_public_fold1/data.yaml --hyp ./working/hyp.yaml --weights ./checkpoints/yolov5s6.pt --name yolov5s6_e5_bs4_lr01_img3600_public_fold1 --entity kk --project starfish --exist-ok'"
      ]
     },
     "execution_count": 6,
     "metadata": {},
     "output_type": "execute_result"
    }
   ],
   "source": [
    "# generate command string to have\n",
    "\n",
    "f\"python train.py --img {image_size} \\\n",
    "--cfg {model_config} \\\n",
    "--batch {batch_size} \\\n",
    "--epochs {epochs} \\\n",
    "--save-period 1 \\\n",
    "--data {data} \\\n",
    "--hyp {hyper_params} \\\n",
    "--weights {weights} \\\n",
    "--name {run_name} \\\n",
    "--entity kk \\\n",
    "--project starfish \\\n",
    "--exist-ok\""
   ]
  }
 ],
 "metadata": {
  "kernelspec": {
   "display_name": "Python 3",
   "language": "python",
   "name": "python3"
  },
  "language_info": {
   "codemirror_mode": {
    "name": "ipython",
    "version": 3
   },
   "file_extension": ".py",
   "mimetype": "text/x-python",
   "name": "python",
   "nbconvert_exporter": "python",
   "pygments_lexer": "ipython3",
   "version": "3.7.9"
  }
 },
 "nbformat": 4,
 "nbformat_minor": 5
}
