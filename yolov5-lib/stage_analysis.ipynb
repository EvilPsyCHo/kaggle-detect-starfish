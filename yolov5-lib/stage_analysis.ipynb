{
 "cells": [
  {
   "cell_type": "code",
   "execution_count": 9,
   "id": "22fc587d",
   "metadata": {},
   "outputs": [],
   "source": [
    "import numpy as np\n",
    "from tqdm.notebook import tqdm\n",
    "tqdm.pandas()\n",
    "import pandas as pd\n",
    "import os\n",
    "import cv2\n",
    "import matplotlib.pyplot as plt\n",
    "import glob\n",
    "import torch\n",
    "import shutil\n",
    "import sys\n",
    "import random\n",
    "from joblib import Parallel, delayed\n",
    "from IPython.display import display, HTML\n",
    "from matplotlib import animation, rc\n",
    "from pathlib import Path\n",
    "import seaborn as sns\n",
    "from sklearn.cluster import KMeans\n",
    "sys.path.append('../input/tensorflow-great-barrier-reef')\n",
    "rc('animation', html='jshtml')\n",
    "%matplotlib inline"
   ]
  },
  {
   "cell_type": "code",
   "execution_count": 10,
   "id": "e2e42e95",
   "metadata": {},
   "outputs": [],
   "source": [
    "def get_bbox(annots):\n",
    "    bboxes = [list(annot.values()) for annot in annots]\n",
    "    return bboxes"
   ]
  },
  {
   "cell_type": "code",
   "execution_count": 11,
   "id": "6ae2a554",
   "metadata": {},
   "outputs": [],
   "source": []
  },
  {
   "cell_type": "code",
   "execution_count": 13,
   "id": "08c3d9f3",
   "metadata": {},
   "outputs": [],
   "source": []
  },
  {
   "cell_type": "code",
   "execution_count": 14,
   "id": "08f169c7",
   "metadata": {},
   "outputs": [],
   "source": [
    "CONF = 0.15\n",
    "\n",
    "def process_pred(x):\n",
    "    if isinstance(x, list):\n",
    "        pred = []\n",
    "        x = np.array(x).reshape(-1, 5).astype(\"float\")\n",
    "        for idx in range(len(x)):\n",
    "            if x[idx, 0] > CONF:\n",
    "                pred.append(x[idx, 1:].tolist())\n",
    "        return pred\n",
    "    return []"
   ]
  },
  {
   "cell_type": "code",
   "execution_count": 17,
   "id": "9ba676e7",
   "metadata": {},
   "outputs": [],
   "source": []
  },
  {
   "cell_type": "code",
   "execution_count": 19,
   "id": "22313600",
   "metadata": {},
   "outputs": [],
   "source": [
    "def calc_iou(bboxes1, bboxes2, bbox_mode='xywh'):\n",
    "    # xmin ymin weight height\n",
    "    assert len(bboxes1.shape) == 2 and bboxes1.shape[1] == 4\n",
    "    assert len(bboxes2.shape) == 2 and bboxes2.shape[1] == 4\n",
    "    \n",
    "    bboxes1 = bboxes1.copy()\n",
    "    bboxes2 = bboxes2.copy()\n",
    "    \n",
    "    if bbox_mode == 'xywh':\n",
    "        bboxes1[:, 2:] += bboxes1[:, :2]\n",
    "        bboxes2[:, 2:] += bboxes2[:, :2]\n",
    "\n",
    "    x11, y11, x12, y12 = np.split(bboxes1, 4, axis=1)\n",
    "    x21, y21, x22, y22 = np.split(bboxes2, 4, axis=1)\n",
    "    xA = np.maximum(x11, np.transpose(x21))\n",
    "    yA = np.maximum(y11, np.transpose(y21))\n",
    "    xB = np.minimum(x12, np.transpose(x22))\n",
    "    yB = np.minimum(y12, np.transpose(y22))\n",
    "    interArea = np.maximum((xB - xA + 1), 0) * np.maximum((yB - yA + 1), 0)\n",
    "    boxAArea = (x12 - x11 + 1) * (y12 - y11 + 1)\n",
    "    boxBArea = (x22 - x21 + 1) * (y22 - y21 + 1)\n",
    "    iou = interArea / (boxAArea + np.transpose(boxBArea) - interArea)\n",
    "    return iou"
   ]
  },
  {
   "cell_type": "code",
   "execution_count": 20,
   "id": "8f89cf5f",
   "metadata": {},
   "outputs": [],
   "source": [
    "from tqdm import tqdm\n",
    "\n",
    "IOU = 0.2\n",
    "def gr_track_analysis(gts, preds):\n",
    "    gt_track = []\n",
    "    cache = []\n",
    "    cnt = 0\n",
    "    for step, (gt, pred) in tqdm(enumerate(zip(gts, preds)), total=len(gts)):\n",
    "        gt = np.array(gt)\n",
    "        pred = np.array(pred)\n",
    "        \n",
    "        # not gt in current and last frame\n",
    "        if (len(gt) == 0) and (len(cache) == 0):\n",
    "            continue\n",
    "        \n",
    "        # No new gt\n",
    "        if len(gt) == 0:\n",
    "            gt_track.extend([cache.pop() for _ in range(len(cache))])\n",
    "            continue\n",
    "        \n",
    "        # No old gt\n",
    "        if len(cache) == 0:\n",
    "            for idx in range(len(gt)):\n",
    "                cache.append([gt[idx], []])\n",
    "        else:\n",
    "            last_gt_iou = calc_iou(np.array([b for b,_ in cache]), gt)\n",
    "\n",
    "            # update gt bbox coordinate\n",
    "            keep_gt = np.where(np.max(last_gt_iou, 1) >= IOU)[0].tolist()\n",
    "            update  = np.argmax(last_gt_iou, 1)[keep_gt].tolist()\n",
    "\n",
    "            for keep_idx, update_idx in zip(keep_gt, update):\n",
    "                cache[keep_idx][0] = gt[update_idx]\n",
    "\n",
    "            # drop missing gt bbox\n",
    "            new_cache = []\n",
    "            for i in range(len(cache)):\n",
    "                c = cache[i].copy()\n",
    "                if i in keep_gt:\n",
    "                    new_cache.append(c)\n",
    "                else:\n",
    "                    gt_track.append(c)\n",
    "            cache = new_cache\n",
    "\n",
    "            # add new gt bbox\n",
    "            new_gt = np.where(np.max(last_gt_iou, 0) < IOU)[0].tolist()\n",
    "            for new in new_gt:\n",
    "                cache.append([gt[new], []])\n",
    "        \n",
    "        # update track\n",
    "        \n",
    "        if len(pred) == 0:\n",
    "            for i in range(len(cache)):\n",
    "                cache[i][1].append(0)\n",
    "            continue\n",
    "        \n",
    "        \n",
    "        track_iou = calc_iou(np.array([b for b,_ in cache]), pred)\n",
    "        for idx, (iou, _) in enumerate(zip(np.max(track_iou, 1), np.max(track_iou, 1))):\n",
    "            if iou >= 0.4:\n",
    "                cache[idx][1].append(1)\n",
    "            else:\n",
    "                cache[idx][1].append(0)\n",
    "    \n",
    "    gt_track.extend([cache.pop() for _ in range(len(cache))])\n",
    "    return gt_track"
   ]
  },
  {
   "cell_type": "code",
   "execution_count": 39,
   "id": "08a5799c",
   "metadata": {},
   "outputs": [],
   "source": [
    "def model_correlation(model_dict):\n",
    "    record = {}\n",
    "    \n",
    "    for name, path in model_dict.items():\n",
    "        df = pd.read_csv(path)\n",
    "        df['annotations'] = df['annotations'].apply(eval).apply(get_bbox)\n",
    "        df['preds'] = df['preds'].str.split(\" \").apply(process_pred)\n",
    "        df_track = gr_track_analysis(df.annotations, df.preds)\n",
    "        df_track = np.array([np.mean(j) for i,j in df_track])\n",
    "        record[name] = df_track\n",
    "    \n",
    "    return pd.DataFrame(record)"
   ]
  },
  {
   "cell_type": "code",
   "execution_count": 40,
   "id": "7aca55d6",
   "metadata": {},
   "outputs": [],
   "source": [
    "models = {\n",
    "    \"s1\": \"./stage_cache/single_model/m1/m1_sz3600_nmsconf0.01_nmsiou0.2.csv\",\n",
    "    \"s2\": \"./stage_cache/single_model/m1/m1_sz2988_nmsconf0.01_nmsiou0.2.csv\",\n",
    "    \"s3\": \"./stage_cache/single_model/m1/m1_sz2412_nmsconf0.01_nmsiou0.2.csv\",\n",
    "    \"s4\": \"./stage_cache/single_model/m1/m1_sz9000_nmsconf0.01_nmsiou0.2.csv\",\n",
    "    \"s5\": \"./stage_cache/single_model/m1/m1_sz7500_nmsconf0.01_nmsiou0.2.csv\",\n",
    "    \"s6\": \"./stage_cache/single_model/m1/m1_sz6000_nmsconf0.01_nmsiou0.2.csv\",\n",
    "    \"s7\": \"./stage_cache/single_model/m1/m1_sz4980_nmsconf0.01_nmsiou0.2.csv\",\n",
    "    \"s8\": \"./stage_cache/single_model/m1/m1_sz4020_nmsconf0.01_nmsiou0.2.csv\",\n",
    "    \"s9\": \"./stage_cache/single_model/m4/m4_sz9000_nmsconf0.01_nmsiou0.2.csv\",\n",
    "    \"s10\": \"./stage_cache/single_model/m4/m4_sz7500_nmsconf0.01_nmsiou0.2.csv\",\n",
    "    \"s11\": \"./stage_cache/single_model/m4/m4_sz6000_nmsconf0.01_nmsiou0.2.csv\",\n",
    "    \"s12\": \"./stage_cache/single_model/m4/m4_sz4980_nmsconf0.01_nmsiou0.2.csv\",\n",
    "    \"s13\": \"./stage_cache/single_model/m4/m4_sz4020_nmsconf0.01_nmsiou0.2.csv\",\n",
    "    \"s14\": \"./stage_cache/single_model/m4/m4_sz3600_nmsconf0.01_nmsiou0.2.csv\",\n",
    "    \"s15\": \"./stage_cache/single_model/m4/m4_sz2988_nmsconf0.01_nmsiou0.2.csv\",\n",
    "    \"s16\": \"./stage_cache/single_model/m4/m4_sz2412_nmsconf0.01_nmsiou0.2.csv\",\n",
    "    \"s17\": \"./stage_cache/single_model/m3/m3_sz3000_nmsconf0.01_nmsiou0.2.csv\",\n",
    "    \"s18\": \"./stage_cache/single_model/m3/m3_sz2400_nmsconf0.01_nmsiou0.2.csv\",\n",
    "    \"s19\": \"./stage_cache/single_model/m3/m3_sz1980_nmsconf0.01_nmsiou0.2.csv\",\n",
    "    \"s20\": \"./stage_cache/single_model/m3/m3_sz1280_nmsconf0.01_nmsiou0.2.csv\",\n",
    "}"
   ]
  },
  {
   "cell_type": "code",
   "execution_count": 41,
   "id": "0fd971a0",
   "metadata": {},
   "outputs": [
    {
     "name": "stderr",
     "output_type": "stream",
     "text": [
      "100%|██████████████████████████████████| 23501/23501 [00:00<00:00, 29924.82it/s]\n",
      "100%|██████████████████████████████████| 23501/23501 [00:00<00:00, 28570.77it/s]\n",
      "100%|██████████████████████████████████| 23501/23501 [00:00<00:00, 30917.17it/s]\n",
      "100%|██████████████████████████████████| 23501/23501 [00:00<00:00, 36745.33it/s]\n",
      "100%|██████████████████████████████████| 23501/23501 [00:00<00:00, 38119.18it/s]\n",
      "100%|██████████████████████████████████| 23501/23501 [00:00<00:00, 35718.69it/s]\n",
      "100%|██████████████████████████████████| 23501/23501 [00:00<00:00, 31574.82it/s]\n",
      "100%|██████████████████████████████████| 23501/23501 [00:00<00:00, 28508.47it/s]\n",
      "100%|██████████████████████████████████| 23501/23501 [00:00<00:00, 36768.81it/s]\n",
      "100%|██████████████████████████████████| 23501/23501 [00:00<00:00, 35881.98it/s]\n",
      "100%|██████████████████████████████████| 23501/23501 [00:00<00:00, 32456.30it/s]\n",
      "100%|██████████████████████████████████| 23501/23501 [00:00<00:00, 35348.74it/s]\n",
      "100%|██████████████████████████████████| 23501/23501 [00:00<00:00, 30299.71it/s]\n",
      "100%|██████████████████████████████████| 23501/23501 [00:00<00:00, 29614.10it/s]\n",
      "100%|██████████████████████████████████| 23501/23501 [00:00<00:00, 31575.39it/s]\n",
      "100%|██████████████████████████████████| 23501/23501 [00:00<00:00, 29852.44it/s]\n",
      "100%|██████████████████████████████████| 23501/23501 [00:00<00:00, 31418.68it/s]\n",
      "100%|██████████████████████████████████| 23501/23501 [00:00<00:00, 29802.55it/s]\n",
      "100%|██████████████████████████████████| 23501/23501 [00:00<00:00, 27915.44it/s]\n",
      "100%|██████████████████████████████████| 23501/23501 [00:00<00:00, 31728.51it/s]\n"
     ]
    }
   ],
   "source": [
    "corr = model_correlation(models)"
   ]
  },
  {
   "cell_type": "code",
   "execution_count": 48,
   "id": "9f33c898",
   "metadata": {},
   "outputs": [
    {
     "data": {
      "text/plain": [
       "<AxesSubplot:>"
      ]
     },
     "execution_count": 48,
     "metadata": {},
     "output_type": "execute_result"
    },
    {
     "data": {
      "image/png": "[encoded data removed]",
      "text/plain": [
       "<Figure size 576x576 with 2 Axes>"
      ]
     },
     "metadata": {
      "needs_background": "light"
     },
     "output_type": "display_data"
    }
   ],
   "source": [
    "plt.figure(figsize=(8, 8))\n",
    "sns.heatmap(corr.corr())"
   ]
  },
  {
   "cell_type": "code",
   "execution_count": 50,
   "id": "d95d1f6c",
   "metadata": {},
   "outputs": [
    {
     "data": {
      "text/plain": [
       "s1     0.669046\n",
       "s2     0.650879\n",
       "s3     0.611397\n",
       "s4     0.241259\n",
       "s5     0.426984\n",
       "s6     0.578091\n",
       "s7     0.651791\n",
       "s8     0.658169\n",
       "s9     0.346059\n",
       "s10    0.508034\n",
       "s11    0.588308\n",
       "s12    0.633970\n",
       "s13    0.671107\n",
       "s14    0.667124\n",
       "s15    0.644520\n",
       "s16    0.626459\n",
       "s17    0.656199\n",
       "s18    0.654954\n",
       "s19    0.609252\n",
       "s20    0.446755\n",
       "dtype: float64"
      ]
     },
     "execution_count": 50,
     "metadata": {},
     "output_type": "execute_result"
    }
   ],
   "source": [
    "corr.corr().mean()"
   ]
  },
  {
   "cell_type": "code",
   "execution_count": 273,
   "id": "78f19582",
   "metadata": {},
   "outputs": [
    {
     "data": {
      "text/plain": [
       "Text(0.5, 1.0, 'Track hit ratio')"
      ]
     },
     "execution_count": 273,
     "metadata": {},
     "output_type": "execute_result"
    },
    {
     "data": {
      "image/png": "[encoded data removed]",
      "text/plain": [
       "<Figure size 432x288 with 1 Axes>"
      ]
     },
     "metadata": {
      "needs_background": "light"
     },
     "output_type": "display_data"
    }
   ],
   "source": [
    "track_ratio = np.array([np.mean(t[1]) for t in gt_track])\n",
    "_ = plt.hist(track_ratio, bins=40)\n",
    "plt.title(\"Track hit ratio\")"
   ]
  },
  {
   "cell_type": "code",
   "execution_count": 274,
   "id": "017d6ab5",
   "metadata": {},
   "outputs": [
    {
     "data": {
      "text/plain": [
       "Text(0.5, 1.0, 'Track lens')"
      ]
     },
     "execution_count": 274,
     "metadata": {},
     "output_type": "execute_result"
    },
    {
     "data": {
      "image/png": "[encoded data removed]",
      "text/plain": [
       "<Figure size 432x288 with 1 Axes>"
      ]
     },
     "metadata": {
      "needs_background": "light"
     },
     "output_type": "display_data"
    }
   ],
   "source": [
    "track_lens  =  np.array([len(t[1]) for t in gt_track])\n",
    "_ = plt.hist(track_lens, bins=40)\n",
    "plt.title(\"Track lens\")"
   ]
  },
  {
   "cell_type": "code",
   "execution_count": 275,
   "id": "3c7731ce",
   "metadata": {},
   "outputs": [
    {
     "data": {
      "text/plain": [
       "0.5157076205287714"
      ]
     },
     "execution_count": 275,
     "metadata": {},
     "output_type": "execute_result"
    }
   ],
   "source": [
    "# over all FP / (FP + FN)\n",
    "\n",
    "np.sum(track_ratio * track_lens) / np.sum(track_lens)"
   ]
  },
  {
   "cell_type": "code",
   "execution_count": 316,
   "id": "698f6ee0",
   "metadata": {},
   "outputs": [
    {
     "data": {
      "text/plain": [
       "Text(0.5, 1.0, 'miss track after hit')"
      ]
     },
     "execution_count": 316,
     "metadata": {},
     "output_type": "execute_result"
    },
    {
     "data": {
      "image/png": "[encoded data removed]",
      "text/plain": [
       "<Figure size 432x288 with 1 Axes>"
      ]
     },
     "metadata": {
      "needs_background": "light"
     },
     "output_type": "display_data"
    }
   ],
   "source": [
    "# miss track after hit\n",
    "\n",
    "miss_cnt = []\n",
    "\n",
    "for t in track:\n",
    "    TRACK = False\n",
    "    cnt   = 0\n",
    "    for h in t:\n",
    "        if (TRACK & (h == 0)) or ((cnt > 0) & (h == 0)):\n",
    "            cnt += 1\n",
    "        if h == 1:\n",
    "            TRACK = True\n",
    "            if cnt > 0:\n",
    "                miss_cnt.append(cnt)\n",
    "            cnt = 0\n",
    "    if cnt > 0:\n",
    "        miss_cnt.append(cnt)\n",
    "        \n",
    "_ = plt.hist(miss_cnt, 30)\n",
    "plt.title(\"miss track after hit\")"
   ]
  },
  {
   "cell_type": "code",
   "execution_count": 278,
   "id": "66fb56f5",
   "metadata": {},
   "outputs": [],
   "source": [
    "bbox = np.array([t[0] for t in gt_track])\n",
    "area = bbox[:, 2] * bbox[:, 3]"
   ]
  },
  {
   "cell_type": "code",
   "execution_count": 304,
   "id": "ba4b33c6",
   "metadata": {},
   "outputs": [],
   "source": [
    "cluster5 = KMeans(5).fit_predict(bbox)"
   ]
  },
  {
   "cell_type": "code",
   "execution_count": 318,
   "id": "70b4005c",
   "metadata": {},
   "outputs": [
    {
     "data": {
      "text/plain": [
       "cluster\n",
       "0    0.288447\n",
       "1    0.583873\n",
       "2    0.443381\n",
       "3    0.566393\n",
       "4    0.285976\n",
       "Name: hit_mean, dtype: float64"
      ]
     },
     "execution_count": 318,
     "metadata": {},
     "output_type": "execute_result"
    }
   ],
   "source": [
    "pd.DataFrame({\"cluster\": cluster5, \"hit_mean\": track_ratio}).groupby(\"cluster\")['hit_mean'].mean()"
   ]
  },
  {
   "cell_type": "code",
   "execution_count": 340,
   "id": "bdedc77d",
   "metadata": {},
   "outputs": [
    {
     "data": {
      "image/png": "[encoded data removed]",
      "text/plain": [
       "<Figure size 432x288 with 1 Axes>"
      ]
     },
     "metadata": {
      "needs_background": "light"
     },
     "output_type": "display_data"
    }
   ],
   "source": [
    "colors = ['#1f77b4', '#ff7f0e', '#2ca02c', '#d62728', '#9467bd']\n",
    "for i in np.unique(cluster5):\n",
    "    plt.scatter(bbox[cluster5==i,0], bbox[cluster5==i,1], c=colors[i], label=i)\n",
    "plt.legend()\n",
    "plt.show()"
   ]
  },
  {
   "cell_type": "code",
   "execution_count": 281,
   "id": "5da8cad5",
   "metadata": {},
   "outputs": [
    {
     "data": {
      "text/plain": [
       "Text(0.5, 1.0, 'Area vs Hit Ratio')"
      ]
     },
     "execution_count": 281,
     "metadata": {},
     "output_type": "execute_result"
    },
    {
     "data": {
      "image/png": "[encoded data removed]",
      "text/plain": [
       "<Figure size 432x288 with 1 Axes>"
      ]
     },
     "metadata": {
      "needs_background": "light"
     },
     "output_type": "display_data"
    }
   ],
   "source": [
    "plt.scatter(area, track_ratio)\n",
    "plt.title(\"Area vs Hit Ratio\")"
   ]
  },
  {
   "cell_type": "code",
   "execution_count": 290,
   "id": "7865c782",
   "metadata": {},
   "outputs": [
    {
     "data": {
      "text/plain": [
       "<matplotlib.collections.PathCollection at 0x7f3527d70bb0>"
      ]
     },
     "execution_count": 290,
     "metadata": {},
     "output_type": "execute_result"
    },
    {
     "data": {
      "image/png": "[encoded data removed]",
      "text/plain": [
       "<Figure size 432x288 with 1 Axes>"
      ]
     },
     "metadata": {
      "needs_background": "light"
     },
     "output_type": "display_data"
    }
   ],
   "source": [
    "plt.scatter(bbox[:,0], bbox[:,1])"
   ]
  },
  {
   "cell_type": "code",
   "execution_count": 289,
   "id": "cadc8a8c",
   "metadata": {},
   "outputs": [
    {
     "name": "stderr",
     "output_type": "stream",
     "text": [
      "/home/kky/miniconda3/envs/py38/lib/python3.8/site-packages/seaborn/_decorators.py:36: FutureWarning: Pass the following variables as keyword args: x, y. From version 0.12, the only valid positional argument will be `data`, and passing other arguments without an explicit keyword will result in an error or misinterpretation.\n",
      "  warnings.warn(\n"
     ]
    },
    {
     "data": {
      "text/plain": [
       "<AxesSubplot:>"
      ]
     },
     "execution_count": 289,
     "metadata": {},
     "output_type": "execute_result"
    },
    {
     "data": {
      "image/png": "[encoded data removed]",
      "text/plain": [
       "<Figure size 432x288 with 1 Axes>"
      ]
     },
     "metadata": {
      "needs_background": "light"
     },
     "output_type": "display_data"
    }
   ],
   "source": [
    "sns.regplot(bbox[:, 0], track_ratio)"
   ]
  },
  {
   "cell_type": "code",
   "execution_count": 288,
   "id": "9d929c8b",
   "metadata": {},
   "outputs": [
    {
     "name": "stderr",
     "output_type": "stream",
     "text": [
      "/home/kky/miniconda3/envs/py38/lib/python3.8/site-packages/seaborn/_decorators.py:36: FutureWarning: Pass the following variables as keyword args: x, y. From version 0.12, the only valid positional argument will be `data`, and passing other arguments without an explicit keyword will result in an error or misinterpretation.\n",
      "  warnings.warn(\n"
     ]
    },
    {
     "data": {
      "text/plain": [
       "<AxesSubplot:>"
      ]
     },
     "execution_count": 288,
     "metadata": {},
     "output_type": "execute_result"
    },
    {
     "data": {
      "image/png": "[encoded data removed]",
      "text/plain": [
       "<Figure size 432x288 with 1 Axes>"
      ]
     },
     "metadata": {
      "needs_background": "light"
     },
     "output_type": "display_data"
    }
   ],
   "source": [
    "sns.regplot(bbox[:, 1], track_ratio)"
   ]
  },
  {
   "cell_type": "code",
   "execution_count": 296,
   "id": "011663fd",
   "metadata": {},
   "outputs": [],
   "source": [
    "track = [t[1] for t in gt_track]\n",
    "first_hit = [t.index(1) if 1 in t else -1 for t in track]"
   ]
  },
  {
   "cell_type": "code",
   "execution_count": 300,
   "id": "eba12239",
   "metadata": {},
   "outputs": [
    {
     "data": {
      "text/plain": [
       "-1     62\n",
       " 0     58\n",
       " 1     29\n",
       " 2      4\n",
       " 3      9\n",
       " 4      7\n",
       " 5      3\n",
       " 6      2\n",
       " 7      4\n",
       " 8      3\n",
       " 9      5\n",
       " 10     1\n",
       " 11     3\n",
       " 12     2\n",
       " 13     4\n",
       " 14     2\n",
       " 15     2\n",
       " 16     3\n",
       " 17     2\n",
       " 18     1\n",
       " 19     1\n",
       " 20     1\n",
       " 24     3\n",
       " 26     2\n",
       " 29     1\n",
       " 31     1\n",
       " 35     1\n",
       " 42     2\n",
       " 45     1\n",
       " 57     1\n",
       " 59     1\n",
       " 65     1\n",
       "dtype: int64"
      ]
     },
     "execution_count": 300,
     "metadata": {},
     "output_type": "execute_result"
    }
   ],
   "source": [
    "# first hit location\n",
    "\n",
    "pd.Series(first_hit).value_counts().sort_index()"
   ]
  },
  {
   "cell_type": "code",
   "execution_count": null,
   "id": "c8c50d4b",
   "metadata": {},
   "outputs": [],
   "source": []
  }
 ],
 "metadata": {
  "kernelspec": {
   "display_name": "Python 3 (ipykernel)",
   "language": "python",
   "name": "python3"
  },
  "language_info": {
   "codemirror_mode": {
    "name": "ipython",
    "version": 3
   },
   "file_extension": ".py",
   "mimetype": "text/x-python",
   "name": "python",
   "nbconvert_exporter": "python",
   "pygments_lexer": "ipython3",
   "version": "3.8.0"
  }
 },
 "nbformat": 4,
 "nbformat_minor": 5
}
