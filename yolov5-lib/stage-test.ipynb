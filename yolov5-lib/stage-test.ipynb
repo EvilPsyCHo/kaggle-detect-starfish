{
 "cells": [
  {
   "cell_type": "markdown",
   "id": "13984504",
   "metadata": {},
   "source": [
    "# Single Model"
   ]
  },
  {
   "cell_type": "code",
   "execution_count": 3,
   "id": "d39a0e41",
   "metadata": {},
   "outputs": [],
   "source": [
    "data0 = \"../input/yolov5_video0/train.csv\"\n",
    "data1 = \"../input/yolov5_video1/train.csv\"\n",
    "data2 = \"../input/yolov5_video2/train.csv\"\n",
    "\n",
    "# Model 1 : yolov5m6_e5_bs1_lr01_img3000_public\n",
    "m1f0 = \"./checkpoints/KH/20220124/yolov5m6_e5_bs1_lr01_img3000_public_fold0/weights/best.pt\"\n",
    "m1f1 = \"./checkpoints/KH/20220124/yolov5m6_e5_bs1_lr01_img3000_public_fold1/weights/best.pt\"\n",
    "m1f2 = \"./checkpoints/KH/20220124/yolov5m6_e5_bs1_lr01_img3000_public_fold2/weights/best.pt\"\n",
    "\n",
    "# Model 2 : yolov5s6_e5_bs2_lr01_img1280_public\n",
    "m2f0 = \"./checkpoints/KH/20220124/yolov5s6_e5_bs2_lr01_img1280_public_fold0/weights/best.pt\"\n",
    "m2f1 = \"./checkpoints/KH/20220124/yolov5s6_e5_bs2_lr01_img1280_public_fold1/weights/best.pt\"\n",
    "m2f2 = \"./checkpoints/KH/20220124/yolov5s6_e5_bs2_lr01_img1280_public_fold2/weights/best.pt\"\n",
    "\n",
    "# Model 3 : yolov5s6_e5_bs2_lr01_img1920_public\n",
    "m3f0 = \"./checkpoints/KH/20220124/yolov5s6_e5_bs2_lr01_img1920_public_fold0/weights/best.pt\"\n",
    "m3f1 = \"./checkpoints/KH/20220124/yolov5s6_e5_bs2_lr01_img1920_public_fold1/weights/best.pt\"\n",
    "m3f2 = \"./checkpoints/KH/20220124/yolov5s6_e5_bs2_lr01_img1920_public_fold2/weights/best.pt\"\n",
    "\n",
    "# Model 4 : \n",
    "m4f0 = \"./checkpoints/KH/20220124/yolov5s6_e5_bs2_lr01_img3000_public_fold0/weights/best.pt\"\n",
    "m4f1 = \"./checkpoints/KH/20220124/yolov5s6_e5_bs2_lr01_img3000_public_fold1/weights/best.pt\"\n",
    "m4f2 = \"./checkpoints/KH/20220124/yolov5s6_e5_bs2_lr01_img3000_public_fold2/weights/best.pt\""
   ]
  },
  {
   "cell_type": "code",
   "execution_count": 2,
   "id": "8452add0",
   "metadata": {},
   "outputs": [],
   "source": [
    "import os\n",
    "from stage_eval import evaluate\n",
    "from stage_2_ensemble_model import wbf_ensemble\n",
    "\n",
    "def merge_df(ps, save_name):\n",
    "    dfs = pd.concat([pd.read_csv(p) for p in ps], axis=0).reset_index(drop=True)\n",
    "    dfs.to_csv(save_name, index=None)\n",
    "    for p in ps:\n",
    "        os.remove(p)"
   ]
  },
  {
   "cell_type": "markdown",
   "id": "e0d5512a",
   "metadata": {},
   "source": [
    "## Model 2 - iou 0.2 - conf 0.1 - size 1280 - aug"
   ]
  },
  {
   "cell_type": "code",
   "execution_count": 39,
   "id": "c274d273",
   "metadata": {
    "scrolled": false
   },
   "outputs": [
    {
     "name": "stdout",
     "output_type": "stream",
     "text": [
      "setup env ...\n",
      "load model ...\n",
      "YOLOv5 🚀 c2308b7 torch 1.9.1+cu111 CUDA:0 (NVIDIA GeForce RTX 3090, 24268MiB)\n",
      "\n",
      "Fusing layers... \n",
      "Model Summary: 280 layers, 12308200 parameters, 0 gradients, 16.2 GFLOPs\n",
      "Adding AutoShape... \n",
      "--------------  load yolov5 model ...-----------------\n",
      "NMS IOU 0.2,  NMS CONF 0.1,  MAX_DET 1000\n",
      "Aug True\n",
      "load data ...\n",
      "data shape : (6708, 13)\n",
      "0it [00:00, ?it/s]\n",
      "finished use 5.2 minutes, save in ./stage_cache/single_model/m2/m2f0_sz1280_iou0.2_conf0.1_aug_fold0.csv\n",
      "setup env ...\n",
      "load model ...\n",
      "YOLOv5 🚀 c2308b7 torch 1.9.1+cu111 CUDA:0 (NVIDIA GeForce RTX 3090, 24268MiB)\n",
      "\n",
      "Fusing layers... \n",
      "Model Summary: 280 layers, 12308200 parameters, 0 gradients, 16.2 GFLOPs\n",
      "Adding AutoShape... \n",
      "--------------  load yolov5 model ...-----------------\n",
      "NMS IOU 0.2,  NMS CONF 0.1,  MAX_DET 1000\n",
      "Aug True\n",
      "load data ...\n",
      "data shape : (8232, 13)\n",
      "0it [00:00, ?it/s]\n",
      "finished use 6.4 minutes, save in ./stage_cache/single_model/m2/m2f0_sz1280_iou0.2_conf0.1_aug_fold1.csv\n",
      "setup env ...\n",
      "load model ...\n",
      "YOLOv5 🚀 c2308b7 torch 1.9.1+cu111 CUDA:0 (NVIDIA GeForce RTX 3090, 24268MiB)\n",
      "\n",
      "Fusing layers... \n",
      "Model Summary: 280 layers, 12308200 parameters, 0 gradients, 16.2 GFLOPs\n",
      "Adding AutoShape... \n",
      "--------------  load yolov5 model ...-----------------\n",
      "NMS IOU 0.2,  NMS CONF 0.1,  MAX_DET 1000\n",
      "Aug True\n",
      "load data ...\n",
      "data shape : (8561, 13)\n",
      "0it [00:00, ?it/s]\n",
      "finished use 6.6 minutes, save in ./stage_cache/single_model/m2/m2f0_sz1280_iou0.2_conf0.1_aug_fold2.csv\n"
     ]
    }
   ],
   "source": [
    "!python stage_1_single_model.py \\\n",
    "--ckpt {m2f0} \\\n",
    "--data {data0} \\\n",
    "--size 1280 \\\n",
    "--save \"./stage_cache/single_model/m2/m2f0_sz1280_iou0.2_conf0.1_aug_fold0.csv\" \\\n",
    "--nms_conf 0.1 \\\n",
    "--nms_iou 0.2 \\\n",
    "--aug\n",
    "\n",
    "\n",
    "!python stage_1_single_model.py \\\n",
    "--ckpt {m2f1} \\\n",
    "--data {data1} \\\n",
    "--size 1280 \\\n",
    "--save \"./stage_cache/single_model/m2/m2f0_sz1280_iou0.2_conf0.1_aug_fold1.csv\" \\\n",
    "--nms_conf 0.1 \\\n",
    "--nms_iou 0.2 \\\n",
    "--aug\n",
    "\n",
    "!python stage_1_single_model.py \\\n",
    "--ckpt {m2f2} \\\n",
    "--data {data2} \\\n",
    "--size 1280 \\\n",
    "--save \"./stage_cache/single_model/m2/m2f0_sz1280_iou0.2_conf0.1_aug_fold2.csv\" \\\n",
    "--nms_conf 0.1 \\\n",
    "--nms_iou 0.2 \\\n",
    "--aug"
   ]
  },
  {
   "cell_type": "code",
   "execution_count": 54,
   "id": "d6158426",
   "metadata": {},
   "outputs": [],
   "source": [
    "ps = [\"./stage_cache/single_model/m2/m2f0_sz1280_iou0.2_conf0.1_aug_fold0.csv\", \n",
    "     \"./stage_cache/single_model/m2/m2f0_sz1280_iou0.2_conf0.1_aug_fold1.csv\",\n",
    "     \"./stage_cache/single_model/m2/m2f0_sz1280_iou0.2_conf0.1_aug_fold2.csv\"]\n",
    "\n",
    "merge_df(ps, \"./stage_cache/single_model/m2_sz1280_iou0.2_conf0.1_aug.csv\")"
   ]
  },
  {
   "cell_type": "markdown",
   "id": "53359de4",
   "metadata": {},
   "source": [
    "## Model 2 - iou 0.2 - conf 0.1 - size 2560 - aug"
   ]
  },
  {
   "cell_type": "code",
   "execution_count": 40,
   "id": "1dc9c1e1",
   "metadata": {},
   "outputs": [
    {
     "name": "stdout",
     "output_type": "stream",
     "text": [
      "setup env ...\n",
      "load model ...\n",
      "YOLOv5 🚀 c2308b7 torch 1.9.1+cu111 CUDA:0 (NVIDIA GeForce RTX 3090, 24268MiB)\n",
      "\n",
      "Fusing layers... \n",
      "Model Summary: 280 layers, 12308200 parameters, 0 gradients, 16.2 GFLOPs\n",
      "Adding AutoShape... \n",
      "--------------  load yolov5 model ...-----------------\n",
      "NMS IOU 0.2,  NMS CONF 0.1,  MAX_DET 1000\n",
      "Aug True\n",
      "load data ...\n",
      "data shape : (6708, 13)\n",
      "0it [00:00, ?it/s]\n",
      "finished use 7.3 minutes, save in ./stage_cache/single_model/m2/m2f0_sz2560_iou0.2_conf0.1_aug_fold0.csv\n",
      "setup env ...\n",
      "load model ...\n",
      "YOLOv5 🚀 c2308b7 torch 1.9.1+cu111 CUDA:0 (NVIDIA GeForce RTX 3090, 24268MiB)\n",
      "\n",
      "Fusing layers... \n",
      "Model Summary: 280 layers, 12308200 parameters, 0 gradients, 16.2 GFLOPs\n",
      "Adding AutoShape... \n",
      "--------------  load yolov5 model ...-----------------\n",
      "NMS IOU 0.2,  NMS CONF 0.1,  MAX_DET 1000\n",
      "Aug True\n",
      "load data ...\n",
      "data shape : (8232, 13)\n",
      "0it [00:00, ?it/s]\n",
      "finished use 9.1 minutes, save in ./stage_cache/single_model/m2/m2f0_sz2560_iou0.2_conf0.1_aug_fold1.csv\n",
      "setup env ...\n",
      "load model ...\n",
      "YOLOv5 🚀 c2308b7 torch 1.9.1+cu111 CUDA:0 (NVIDIA GeForce RTX 3090, 24268MiB)\n",
      "\n",
      "Fusing layers... \n",
      "Model Summary: 280 layers, 12308200 parameters, 0 gradients, 16.2 GFLOPs\n",
      "Adding AutoShape... \n",
      "--------------  load yolov5 model ...-----------------\n",
      "NMS IOU 0.2,  NMS CONF 0.1,  MAX_DET 1000\n",
      "Aug True\n",
      "load data ...\n",
      "data shape : (8561, 13)\n",
      "0it [00:00, ?it/s]\n",
      "finished use 9.3 minutes, save in ./stage_cache/single_model/m2/m2f0_sz2560_iou0.2_conf0.1_aug_fold2.csv\n"
     ]
    }
   ],
   "source": [
    "!python stage_1_single_model.py \\\n",
    "--ckpt {m2f0} \\\n",
    "--data {data0} \\\n",
    "--size 2560 \\\n",
    "--save \"./stage_cache/single_model/m2/m2f0_sz2560_iou0.2_conf0.1_aug_fold0.csv\" \\\n",
    "--nms_conf 0.1 \\\n",
    "--nms_iou 0.2 \\\n",
    "--aug\n",
    "\n",
    "\n",
    "!python stage_1_single_model.py \\\n",
    "--ckpt {m2f1} \\\n",
    "--data {data1} \\\n",
    "--size 2560 \\\n",
    "--save \"./stage_cache/single_model/m2/m2f0_sz2560_iou0.2_conf0.1_aug_fold1.csv\" \\\n",
    "--nms_conf 0.1 \\\n",
    "--nms_iou 0.2 \\\n",
    "--aug\n",
    "\n",
    "!python stage_1_single_model.py \\\n",
    "--ckpt {m2f2} \\\n",
    "--data {data2} \\\n",
    "--size 2560 \\\n",
    "--save \"./stage_cache/single_model/m2/m2f0_sz2560_iou0.2_conf0.1_aug_fold2.csv\" \\\n",
    "--nms_conf 0.1 \\\n",
    "--nms_iou 0.2 \\\n",
    "--aug"
   ]
  },
  {
   "cell_type": "code",
   "execution_count": 53,
   "id": "2f3153c5",
   "metadata": {},
   "outputs": [],
   "source": [
    "ps = [\"./stage_cache/single_model/m2/m2f0_sz2560_iou0.2_conf0.1_aug_fold0.csv\", \n",
    "     \"./stage_cache/single_model/m2/m2f0_sz2560_iou0.2_conf0.1_aug_fold1.csv\",\n",
    "     \"./stage_cache/single_model/m2/m2f0_sz2560_iou0.2_conf0.1_aug_fold2.csv\"]\n",
    "\n",
    "merge_df(ps, \"./stage_cache/single_model/m2_sz2560_iou0.2_conf0.1_aug.csv\")"
   ]
  },
  {
   "cell_type": "markdown",
   "id": "9048a885",
   "metadata": {},
   "source": [
    "## Model 2 - iou 0.2 - conf 0.01 - size 1280 - aug"
   ]
  },
  {
   "cell_type": "code",
   "execution_count": 41,
   "id": "067f337a",
   "metadata": {},
   "outputs": [
    {
     "name": "stdout",
     "output_type": "stream",
     "text": [
      "setup env ...\n",
      "load model ...\n",
      "YOLOv5 🚀 c2308b7 torch 1.9.1+cu111 CUDA:0 (NVIDIA GeForce RTX 3090, 24268MiB)\n",
      "\n",
      "Fusing layers... \n",
      "Model Summary: 280 layers, 12308200 parameters, 0 gradients, 16.2 GFLOPs\n",
      "Adding AutoShape... \n",
      "--------------  load yolov5 model ...-----------------\n",
      "NMS IOU 0.2,  NMS CONF 0.01,  MAX_DET 1000\n",
      "Aug True\n",
      "load data ...\n",
      "data shape : (6708, 13)\n",
      "0it [00:00, ?it/s]\n",
      "finished use 5.1 minutes, save in ./stage_cache/single_model/m2/m2f0_sz1280_iou0.2_conf0.01_aug_fold0.csv\n",
      "setup env ...\n",
      "load model ...\n",
      "YOLOv5 🚀 c2308b7 torch 1.9.1+cu111 CUDA:0 (NVIDIA GeForce RTX 3090, 24268MiB)\n",
      "\n",
      "Fusing layers... \n",
      "Model Summary: 280 layers, 12308200 parameters, 0 gradients, 16.2 GFLOPs\n",
      "Adding AutoShape... \n",
      "--------------  load yolov5 model ...-----------------\n",
      "NMS IOU 0.2,  NMS CONF 0.01,  MAX_DET 1000\n",
      "Aug True\n",
      "load data ...\n",
      "data shape : (8232, 13)\n",
      "0it [00:00, ?it/s]\n",
      "finished use 6.3 minutes, save in ./stage_cache/single_model/m2/m2f0_sz1280_iou0.2_conf0.01_aug_fold1.csv\n",
      "setup env ...\n",
      "load model ...\n",
      "YOLOv5 🚀 c2308b7 torch 1.9.1+cu111 CUDA:0 (NVIDIA GeForce RTX 3090, 24268MiB)\n",
      "\n",
      "Fusing layers... \n",
      "Model Summary: 280 layers, 12308200 parameters, 0 gradients, 16.2 GFLOPs\n",
      "Adding AutoShape... \n",
      "--------------  load yolov5 model ...-----------------\n",
      "NMS IOU 0.2,  NMS CONF 0.01,  MAX_DET 1000\n",
      "Aug True\n",
      "load data ...\n",
      "data shape : (8561, 13)\n",
      "0it [00:00, ?it/s]\n",
      "finished use 6.7 minutes, save in ./stage_cache/single_model/m2/m2f0_sz1280_iou0.2_conf0.01_aug_fold2.csv\n"
     ]
    }
   ],
   "source": [
    "!python stage_1_single_model.py \\\n",
    "--ckpt {m2f0} \\\n",
    "--data {data0} \\\n",
    "--size 1280 \\\n",
    "--save \"./stage_cache/single_model/m2/m2f0_sz1280_iou0.2_conf0.01_aug_fold0.csv\" \\\n",
    "--nms_conf 0.01 \\\n",
    "--nms_iou 0.2 \\\n",
    "--aug\n",
    "\n",
    "\n",
    "!python stage_1_single_model.py \\\n",
    "--ckpt {m2f1} \\\n",
    "--data {data1} \\\n",
    "--size 1280 \\\n",
    "--save \"./stage_cache/single_model/m2/m2f0_sz1280_iou0.2_conf0.01_aug_fold1.csv\" \\\n",
    "--nms_conf 0.01 \\\n",
    "--nms_iou 0.2 \\\n",
    "--aug\n",
    "\n",
    "!python stage_1_single_model.py \\\n",
    "--ckpt {m2f2} \\\n",
    "--data {data2} \\\n",
    "--size 1280 \\\n",
    "--save \"./stage_cache/single_model/m2/m2f0_sz1280_iou0.2_conf0.01_aug_fold2.csv\" \\\n",
    "--nms_conf 0.01 \\\n",
    "--nms_iou 0.2 \\\n",
    "--aug"
   ]
  },
  {
   "cell_type": "code",
   "execution_count": 52,
   "id": "5f170eab",
   "metadata": {},
   "outputs": [],
   "source": [
    "ps = [\"./stage_cache/single_model/m2/m2f0_sz1280_iou0.2_conf0.01_aug_fold0.csv\", \n",
    "     \"./stage_cache/single_model/m2/m2f0_sz1280_iou0.2_conf0.01_aug_fold1.csv\",\n",
    "     \"./stage_cache/single_model/m2/m2f0_sz1280_iou0.2_conf0.01_aug_fold2.csv\"]\n",
    "\n",
    "merge_df(ps, \"./stage_cache/single_model/m2_sz1280_iou0.2_conf0.01_aug.csv\")"
   ]
  },
  {
   "cell_type": "markdown",
   "id": "bf5b398e",
   "metadata": {},
   "source": [
    "##  Model 2 - iou 0.2 - conf 0.01 - size 1280 - aug"
   ]
  },
  {
   "cell_type": "code",
   "execution_count": 42,
   "id": "ad1a95e3",
   "metadata": {},
   "outputs": [
    {
     "name": "stdout",
     "output_type": "stream",
     "text": [
      "setup env ...\n",
      "load model ...\n",
      "YOLOv5 🚀 c2308b7 torch 1.9.1+cu111 CUDA:0 (NVIDIA GeForce RTX 3090, 24268MiB)\n",
      "\n",
      "Fusing layers... \n",
      "Model Summary: 280 layers, 12308200 parameters, 0 gradients, 16.2 GFLOPs\n",
      "Adding AutoShape... \n",
      "--------------  load yolov5 model ...-----------------\n",
      "NMS IOU 0.2,  NMS CONF 0.05,  MAX_DET 1000\n",
      "Aug True\n",
      "load data ...\n",
      "data shape : (6708, 13)\n",
      "0it [00:00, ?it/s]\n",
      "finished use 5.0 minutes, save in ./stage_cache/single_model/m2/m2f0_sz1280_iou0.2_conf0.05_aug_fold0.csv\n",
      "setup env ...\n",
      "load model ...\n",
      "YOLOv5 🚀 c2308b7 torch 1.9.1+cu111 CUDA:0 (NVIDIA GeForce RTX 3090, 24268MiB)\n",
      "\n",
      "Fusing layers... \n",
      "Model Summary: 280 layers, 12308200 parameters, 0 gradients, 16.2 GFLOPs\n",
      "Adding AutoShape... \n",
      "--------------  load yolov5 model ...-----------------\n",
      "NMS IOU 0.2,  NMS CONF 0.05,  MAX_DET 1000\n",
      "Aug True\n",
      "load data ...\n",
      "data shape : (8232, 13)\n",
      "0it [00:00, ?it/s]\n",
      "finished use 6.5 minutes, save in ./stage_cache/single_model/m2/m2f0_sz1280_iou0.2_conf0.05_aug_fold1.csv\n",
      "setup env ...\n",
      "load model ...\n",
      "YOLOv5 🚀 c2308b7 torch 1.9.1+cu111 CUDA:0 (NVIDIA GeForce RTX 3090, 24268MiB)\n",
      "\n",
      "Fusing layers... \n",
      "Model Summary: 280 layers, 12308200 parameters, 0 gradients, 16.2 GFLOPs\n",
      "Adding AutoShape... \n",
      "--------------  load yolov5 model ...-----------------\n",
      "NMS IOU 0.2,  NMS CONF 0.05,  MAX_DET 1000\n",
      "Aug True\n",
      "load data ...\n",
      "data shape : (8561, 13)\n",
      "0it [00:00, ?it/s]\n",
      "finished use 6.8 minutes, save in ./stage_cache/single_model/m2/m2f0_sz1280_iou0.2_conf0.05_aug_fold2.csv\n"
     ]
    }
   ],
   "source": [
    "!python stage_1_single_model.py \\\n",
    "--ckpt {m2f0} \\\n",
    "--data {data0} \\\n",
    "--size 1280 \\\n",
    "--save \"./stage_cache/single_model/m2/m2f0_sz1280_iou0.2_conf0.05_aug_fold0.csv\" \\\n",
    "--nms_conf 0.05 \\\n",
    "--nms_iou 0.2 \\\n",
    "--aug\n",
    "\n",
    "\n",
    "!python stage_1_single_model.py \\\n",
    "--ckpt {m2f1} \\\n",
    "--data {data1} \\\n",
    "--size 1280 \\\n",
    "--save \"./stage_cache/single_model/m2/m2f0_sz1280_iou0.2_conf0.05_aug_fold1.csv\" \\\n",
    "--nms_conf 0.05 \\\n",
    "--nms_iou 0.2 \\\n",
    "--aug\n",
    "\n",
    "!python stage_1_single_model.py \\\n",
    "--ckpt {m2f2} \\\n",
    "--data {data2} \\\n",
    "--size 1280 \\\n",
    "--save \"./stage_cache/single_model/m2/m2f0_sz1280_iou0.2_conf0.05_aug_fold2.csv\" \\\n",
    "--nms_conf 0.05 \\\n",
    "--nms_iou 0.2 \\\n",
    "--aug"
   ]
  },
  {
   "cell_type": "code",
   "execution_count": 51,
   "id": "98b518f4",
   "metadata": {},
   "outputs": [],
   "source": [
    "ps = [\"./stage_cache/single_model/m2/m2f0_sz1280_iou0.2_conf0.05_aug_fold0.csv\", \n",
    "     \"./stage_cache/single_model/m2/m2f0_sz1280_iou0.2_conf0.05_aug_fold1.csv\",\n",
    "     \"./stage_cache/single_model/m2/m2f0_sz1280_iou0.2_conf0.05_aug_fold2.csv\"]\n",
    "\n",
    "merge_df(ps, \"./stage_cache/single_model/m2_sz1280_iou0.2_conf0.05_aug.csv\")"
   ]
  },
  {
   "cell_type": "markdown",
   "id": "149dc715",
   "metadata": {},
   "source": [
    "##  Model 2 - iou 0.4 - conf 0.1 - size 1280 - aug"
   ]
  },
  {
   "cell_type": "code",
   "execution_count": 43,
   "id": "6db1e50a",
   "metadata": {},
   "outputs": [
    {
     "name": "stdout",
     "output_type": "stream",
     "text": [
      "setup env ...\n",
      "load model ...\n",
      "YOLOv5 🚀 c2308b7 torch 1.9.1+cu111 CUDA:0 (NVIDIA GeForce RTX 3090, 24268MiB)\n",
      "\n",
      "Fusing layers... \n",
      "Model Summary: 280 layers, 12308200 parameters, 0 gradients, 16.2 GFLOPs\n",
      "Adding AutoShape... \n",
      "--------------  load yolov5 model ...-----------------\n",
      "NMS IOU 0.4,  NMS CONF 0.1,  MAX_DET 1000\n",
      "Aug True\n",
      "load data ...\n",
      "data shape : (6708, 13)\n",
      "0it [00:00, ?it/s]\n",
      "finished use 5.1 minutes, save in ./stage_cache/single_model/m2/m2f0_sz1280_iou0.4_conf0.1_aug_fold0.csv\n",
      "setup env ...\n",
      "load model ...\n",
      "YOLOv5 🚀 c2308b7 torch 1.9.1+cu111 CUDA:0 (NVIDIA GeForce RTX 3090, 24268MiB)\n",
      "\n",
      "Fusing layers... \n",
      "Model Summary: 280 layers, 12308200 parameters, 0 gradients, 16.2 GFLOPs\n",
      "Adding AutoShape... \n",
      "--------------  load yolov5 model ...-----------------\n",
      "NMS IOU 0.4,  NMS CONF 0.1,  MAX_DET 1000\n",
      "Aug True\n",
      "load data ...\n",
      "data shape : (8232, 13)\n",
      "0it [00:00, ?it/s]\n",
      "finished use 6.4 minutes, save in ./stage_cache/single_model/m2/m2f0_sz1280_iou0.4_conf0.1_aug_fold1.csv\n",
      "setup env ...\n",
      "load model ...\n",
      "YOLOv5 🚀 c2308b7 torch 1.9.1+cu111 CUDA:0 (NVIDIA GeForce RTX 3090, 24268MiB)\n",
      "\n",
      "Fusing layers... \n",
      "Model Summary: 280 layers, 12308200 parameters, 0 gradients, 16.2 GFLOPs\n",
      "Adding AutoShape... \n",
      "--------------  load yolov5 model ...-----------------\n",
      "NMS IOU 0.4,  NMS CONF 0.1,  MAX_DET 1000\n",
      "Aug True\n",
      "load data ...\n",
      "data shape : (8561, 13)\n",
      "0it [00:00, ?it/s]\n",
      "finished use 6.9 minutes, save in ./stage_cache/single_model/m2/m2f0_sz1280_iou0.4_conf0.1_aug_fold2.csv\n"
     ]
    }
   ],
   "source": [
    "!python stage_1_single_model.py \\\n",
    "--ckpt {m2f0} \\\n",
    "--data {data0} \\\n",
    "--size 1280 \\\n",
    "--save \"./stage_cache/single_model/m2/m2f0_sz1280_iou0.4_conf0.1_aug_fold0.csv\" \\\n",
    "--nms_conf 0.1 \\\n",
    "--nms_iou 0.4 \\\n",
    "--aug\n",
    "\n",
    "\n",
    "!python stage_1_single_model.py \\\n",
    "--ckpt {m2f1} \\\n",
    "--data {data1} \\\n",
    "--size 1280 \\\n",
    "--save \"./stage_cache/single_model/m2/m2f0_sz1280_iou0.4_conf0.1_aug_fold1.csv\" \\\n",
    "--nms_conf 0.1 \\\n",
    "--nms_iou 0.4 \\\n",
    "--aug\n",
    "\n",
    "!python stage_1_single_model.py \\\n",
    "--ckpt {m2f2} \\\n",
    "--data {data2} \\\n",
    "--size 1280 \\\n",
    "--save \"./stage_cache/single_model/m2/m2f0_sz1280_iou0.4_conf0.1_aug_fold2.csv\" \\\n",
    "--nms_conf 0.1 \\\n",
    "--nms_iou 0.4 \\\n",
    "--aug"
   ]
  },
  {
   "cell_type": "code",
   "execution_count": null,
   "id": "a907b5cc",
   "metadata": {},
   "outputs": [],
   "source": [
    "ps = [\"./stage_cache/single_model/m2/m2f0_sz1280_iou0.4_conf0.1_aug_fold0.csv\", \n",
    "     \"./stage_cache/single_model/m2/m2f0_sz1280_iou0.4_conf0.1_aug_fold1.csv\",\n",
    "     \"./stage_cache/single_model/m2/m2f0_sz1280_iou0.4_conf0.1_aug_fold2.csv\"]\n",
    "\n",
    "merge_df(ps, \"./stage_cache/single_model/m2_sz1280_iou0.4_conf0.1_aug.csv\")"
   ]
  },
  {
   "cell_type": "code",
   "execution_count": null,
   "id": "d7049ba4",
   "metadata": {},
   "outputs": [],
   "source": []
  },
  {
   "cell_type": "code",
   "execution_count": null,
   "id": "bf9166ad",
   "metadata": {},
   "outputs": [],
   "source": []
  },
  {
   "cell_type": "code",
   "execution_count": null,
   "id": "e9b6d38e",
   "metadata": {},
   "outputs": [],
   "source": []
  },
  {
   "cell_type": "markdown",
   "id": "6ceb28de",
   "metadata": {},
   "source": [
    "# ensemble"
   ]
  },
  {
   "cell_type": "code",
   "execution_count": 1,
   "id": "5990ae92",
   "metadata": {
    "scrolled": true
   },
   "outputs": [
    {
     "name": "stdout",
     "output_type": "stream",
     "text": [
      "Preds csv shape [(23501, 14), (23501, 14)]\n"
     ]
    },
    {
     "name": "stderr",
     "output_type": "stream",
     "text": [
      "  0%|                                                            | 0/23501 [00:00<?, ?it/s]/home/kky/kaggle/kaggle-detect-starfish/yolov5-lib/stage_2_ensemble_model.py:168: SettingWithCopyWarning: \n",
      "A value is trying to be set on a copy of a slice from a DataFrame\n",
      "\n",
      "See the caveats in the documentation: https://pandas.pydata.org/pandas-docs/stable/user_guide/indexing.html#returning-a-view-versus-a-copy\n",
      "  ensemble_df.preds[r] = format_prediction(esb_bboxes, esb_confs)\n",
      "100%|██████████████████████████████████████████████| 23501/23501 [00:12<00:00, 1893.39it/s]\n"
     ]
    },
    {
     "name": "stdout",
     "output_type": "stream",
     "text": [
      "Save in ./stage_cache/ensemble/test.csv\n"
     ]
    }
   ],
   "source": [
    "from stage_2_ensemble_model import wbf_ensemble\n",
    "\n",
    "singles = [\n",
    "    \"./stage_cache/single_model/m2/m2_sz1280_iou0.2_conf0.01_aug.csv\",\n",
    "    \"./stage_cache/single_model/m2/m2_sz2560_iou0.2_conf0.1_aug.csv\",\n",
    "]\n",
    "\n",
    "wbf_ensemble(singles, \"./stage_cache/ensemble/test.csv\", wbf_min_conf=0.1)"
   ]
  },
  {
   "cell_type": "code",
   "execution_count": 2,
   "id": "59b2b8e7",
   "metadata": {},
   "outputs": [
    {
     "data": {
      "text/html": [
       "<div>\n",
       "<style scoped>\n",
       "    .dataframe tbody tr th:only-of-type {\n",
       "        vertical-align: middle;\n",
       "    }\n",
       "\n",
       "    .dataframe tbody tr th {\n",
       "        vertical-align: top;\n",
       "    }\n",
       "\n",
       "    .dataframe thead th {\n",
       "        text-align: right;\n",
       "    }\n",
       "</style>\n",
       "<table border=\"1\" class=\"dataframe\">\n",
       "  <thead>\n",
       "    <tr style=\"text-align: right;\">\n",
       "      <th></th>\n",
       "      <th>video_id</th>\n",
       "      <th>sequence</th>\n",
       "      <th>video_frame</th>\n",
       "      <th>sequence_frame</th>\n",
       "      <th>image_id</th>\n",
       "      <th>annotations</th>\n",
       "      <th>pos</th>\n",
       "      <th>fold</th>\n",
       "      <th>bboxes</th>\n",
       "      <th>width</th>\n",
       "      <th>height</th>\n",
       "      <th>image_path</th>\n",
       "      <th>label_path</th>\n",
       "      <th>preds</th>\n",
       "    </tr>\n",
       "  </thead>\n",
       "  <tbody>\n",
       "    <tr>\n",
       "      <th>0</th>\n",
       "      <td>0</td>\n",
       "      <td>40258</td>\n",
       "      <td>0</td>\n",
       "      <td>0</td>\n",
       "      <td>0-0</td>\n",
       "      <td>[]</td>\n",
       "      <td>False</td>\n",
       "      <td>val</td>\n",
       "      <td>[]</td>\n",
       "      <td>1280</td>\n",
       "      <td>720</td>\n",
       "      <td>../input/yolov5_video0/images/val/0-0.jpg</td>\n",
       "      <td>../input/yolov5_video0/labels/val/0-0.txt</td>\n",
       "      <td>0.0846 575.685 348.101 28.602 21.204</td>\n",
       "    </tr>\n",
       "    <tr>\n",
       "      <th>1</th>\n",
       "      <td>0</td>\n",
       "      <td>40258</td>\n",
       "      <td>1</td>\n",
       "      <td>1</td>\n",
       "      <td>0-1</td>\n",
       "      <td>[]</td>\n",
       "      <td>False</td>\n",
       "      <td>val</td>\n",
       "      <td>[]</td>\n",
       "      <td>1280</td>\n",
       "      <td>720</td>\n",
       "      <td>../input/yolov5_video0/images/val/0-1.jpg</td>\n",
       "      <td>../input/yolov5_video0/labels/val/0-1.txt</td>\n",
       "      <td>0.0517 7.404 583.374 37.238 31.166</td>\n",
       "    </tr>\n",
       "    <tr>\n",
       "      <th>2</th>\n",
       "      <td>0</td>\n",
       "      <td>40258</td>\n",
       "      <td>2</td>\n",
       "      <td>2</td>\n",
       "      <td>0-2</td>\n",
       "      <td>[]</td>\n",
       "      <td>False</td>\n",
       "      <td>val</td>\n",
       "      <td>[]</td>\n",
       "      <td>1280</td>\n",
       "      <td>720</td>\n",
       "      <td>../input/yolov5_video0/images/val/0-2.jpg</td>\n",
       "      <td>../input/yolov5_video0/labels/val/0-2.txt</td>\n",
       "      <td>NaN</td>\n",
       "    </tr>\n",
       "    <tr>\n",
       "      <th>3</th>\n",
       "      <td>0</td>\n",
       "      <td>40258</td>\n",
       "      <td>3</td>\n",
       "      <td>3</td>\n",
       "      <td>0-3</td>\n",
       "      <td>[]</td>\n",
       "      <td>False</td>\n",
       "      <td>val</td>\n",
       "      <td>[]</td>\n",
       "      <td>1280</td>\n",
       "      <td>720</td>\n",
       "      <td>../input/yolov5_video0/images/val/0-3.jpg</td>\n",
       "      <td>../input/yolov5_video0/labels/val/0-3.txt</td>\n",
       "      <td>0.0513 1204.125 579.383 27.136 21.806</td>\n",
       "    </tr>\n",
       "    <tr>\n",
       "      <th>4</th>\n",
       "      <td>0</td>\n",
       "      <td>40258</td>\n",
       "      <td>4</td>\n",
       "      <td>4</td>\n",
       "      <td>0-4</td>\n",
       "      <td>[]</td>\n",
       "      <td>False</td>\n",
       "      <td>val</td>\n",
       "      <td>[]</td>\n",
       "      <td>1280</td>\n",
       "      <td>720</td>\n",
       "      <td>../input/yolov5_video0/images/val/0-4.jpg</td>\n",
       "      <td>../input/yolov5_video0/labels/val/0-4.txt</td>\n",
       "      <td>NaN</td>\n",
       "    </tr>\n",
       "    <tr>\n",
       "      <th>...</th>\n",
       "      <td>...</td>\n",
       "      <td>...</td>\n",
       "      <td>...</td>\n",
       "      <td>...</td>\n",
       "      <td>...</td>\n",
       "      <td>...</td>\n",
       "      <td>...</td>\n",
       "      <td>...</td>\n",
       "      <td>...</td>\n",
       "      <td>...</td>\n",
       "      <td>...</td>\n",
       "      <td>...</td>\n",
       "      <td>...</td>\n",
       "      <td>...</td>\n",
       "    </tr>\n",
       "    <tr>\n",
       "      <th>23496</th>\n",
       "      <td>2</td>\n",
       "      <td>29859</td>\n",
       "      <td>10755</td>\n",
       "      <td>2983</td>\n",
       "      <td>2-10755</td>\n",
       "      <td>[]</td>\n",
       "      <td>False</td>\n",
       "      <td>val</td>\n",
       "      <td>[]</td>\n",
       "      <td>1280</td>\n",
       "      <td>720</td>\n",
       "      <td>../input/yolov5_video2/images/val/2-10755.jpg</td>\n",
       "      <td>../input/yolov5_video2/labels/val/2-10755.txt</td>\n",
       "      <td>0.1253 174.091 299.273 33.351 30.942 0.0554 11...</td>\n",
       "    </tr>\n",
       "    <tr>\n",
       "      <th>23497</th>\n",
       "      <td>2</td>\n",
       "      <td>29859</td>\n",
       "      <td>10756</td>\n",
       "      <td>2984</td>\n",
       "      <td>2-10756</td>\n",
       "      <td>[]</td>\n",
       "      <td>False</td>\n",
       "      <td>val</td>\n",
       "      <td>[]</td>\n",
       "      <td>1280</td>\n",
       "      <td>720</td>\n",
       "      <td>../input/yolov5_video2/images/val/2-10756.jpg</td>\n",
       "      <td>../input/yolov5_video2/labels/val/2-10756.txt</td>\n",
       "      <td>0.0750 1215.304 486.374 30.135 27.497</td>\n",
       "    </tr>\n",
       "    <tr>\n",
       "      <th>23498</th>\n",
       "      <td>2</td>\n",
       "      <td>29859</td>\n",
       "      <td>10757</td>\n",
       "      <td>2985</td>\n",
       "      <td>2-10757</td>\n",
       "      <td>[]</td>\n",
       "      <td>False</td>\n",
       "      <td>val</td>\n",
       "      <td>[]</td>\n",
       "      <td>1280</td>\n",
       "      <td>720</td>\n",
       "      <td>../input/yolov5_video2/images/val/2-10757.jpg</td>\n",
       "      <td>../input/yolov5_video2/labels/val/2-10757.txt</td>\n",
       "      <td>NaN</td>\n",
       "    </tr>\n",
       "    <tr>\n",
       "      <th>23499</th>\n",
       "      <td>2</td>\n",
       "      <td>29859</td>\n",
       "      <td>10758</td>\n",
       "      <td>2986</td>\n",
       "      <td>2-10758</td>\n",
       "      <td>[]</td>\n",
       "      <td>False</td>\n",
       "      <td>val</td>\n",
       "      <td>[]</td>\n",
       "      <td>1280</td>\n",
       "      <td>720</td>\n",
       "      <td>../input/yolov5_video2/images/val/2-10758.jpg</td>\n",
       "      <td>../input/yolov5_video2/labels/val/2-10758.txt</td>\n",
       "      <td>0.0644 1214.188 497.455 40.208 27.922</td>\n",
       "    </tr>\n",
       "    <tr>\n",
       "      <th>23500</th>\n",
       "      <td>2</td>\n",
       "      <td>29859</td>\n",
       "      <td>10759</td>\n",
       "      <td>2987</td>\n",
       "      <td>2-10759</td>\n",
       "      <td>[]</td>\n",
       "      <td>False</td>\n",
       "      <td>val</td>\n",
       "      <td>[]</td>\n",
       "      <td>1280</td>\n",
       "      <td>720</td>\n",
       "      <td>../input/yolov5_video2/images/val/2-10759.jpg</td>\n",
       "      <td>../input/yolov5_video2/labels/val/2-10759.txt</td>\n",
       "      <td>0.1031 1190.096 608.460 43.140 45.794 0.0526 1...</td>\n",
       "    </tr>\n",
       "  </tbody>\n",
       "</table>\n",
       "<p>23501 rows × 14 columns</p>\n",
       "</div>"
      ],
      "text/plain": [
       "       video_id  sequence  video_frame  sequence_frame image_id annotations  \\\n",
       "0             0     40258            0               0      0-0          []   \n",
       "1             0     40258            1               1      0-1          []   \n",
       "2             0     40258            2               2      0-2          []   \n",
       "3             0     40258            3               3      0-3          []   \n",
       "4             0     40258            4               4      0-4          []   \n",
       "...         ...       ...          ...             ...      ...         ...   \n",
       "23496         2     29859        10755            2983  2-10755          []   \n",
       "23497         2     29859        10756            2984  2-10756          []   \n",
       "23498         2     29859        10757            2985  2-10757          []   \n",
       "23499         2     29859        10758            2986  2-10758          []   \n",
       "23500         2     29859        10759            2987  2-10759          []   \n",
       "\n",
       "         pos fold bboxes  width  height  \\\n",
       "0      False  val     []   1280     720   \n",
       "1      False  val     []   1280     720   \n",
       "2      False  val     []   1280     720   \n",
       "3      False  val     []   1280     720   \n",
       "4      False  val     []   1280     720   \n",
       "...      ...  ...    ...    ...     ...   \n",
       "23496  False  val     []   1280     720   \n",
       "23497  False  val     []   1280     720   \n",
       "23498  False  val     []   1280     720   \n",
       "23499  False  val     []   1280     720   \n",
       "23500  False  val     []   1280     720   \n",
       "\n",
       "                                          image_path  \\\n",
       "0          ../input/yolov5_video0/images/val/0-0.jpg   \n",
       "1          ../input/yolov5_video0/images/val/0-1.jpg   \n",
       "2          ../input/yolov5_video0/images/val/0-2.jpg   \n",
       "3          ../input/yolov5_video0/images/val/0-3.jpg   \n",
       "4          ../input/yolov5_video0/images/val/0-4.jpg   \n",
       "...                                              ...   \n",
       "23496  ../input/yolov5_video2/images/val/2-10755.jpg   \n",
       "23497  ../input/yolov5_video2/images/val/2-10756.jpg   \n",
       "23498  ../input/yolov5_video2/images/val/2-10757.jpg   \n",
       "23499  ../input/yolov5_video2/images/val/2-10758.jpg   \n",
       "23500  ../input/yolov5_video2/images/val/2-10759.jpg   \n",
       "\n",
       "                                          label_path  \\\n",
       "0          ../input/yolov5_video0/labels/val/0-0.txt   \n",
       "1          ../input/yolov5_video0/labels/val/0-1.txt   \n",
       "2          ../input/yolov5_video0/labels/val/0-2.txt   \n",
       "3          ../input/yolov5_video0/labels/val/0-3.txt   \n",
       "4          ../input/yolov5_video0/labels/val/0-4.txt   \n",
       "...                                              ...   \n",
       "23496  ../input/yolov5_video2/labels/val/2-10755.txt   \n",
       "23497  ../input/yolov5_video2/labels/val/2-10756.txt   \n",
       "23498  ../input/yolov5_video2/labels/val/2-10757.txt   \n",
       "23499  ../input/yolov5_video2/labels/val/2-10758.txt   \n",
       "23500  ../input/yolov5_video2/labels/val/2-10759.txt   \n",
       "\n",
       "                                                   preds  \n",
       "0                   0.0846 575.685 348.101 28.602 21.204  \n",
       "1                     0.0517 7.404 583.374 37.238 31.166  \n",
       "2                                                    NaN  \n",
       "3                  0.0513 1204.125 579.383 27.136 21.806  \n",
       "4                                                    NaN  \n",
       "...                                                  ...  \n",
       "23496  0.1253 174.091 299.273 33.351 30.942 0.0554 11...  \n",
       "23497              0.0750 1215.304 486.374 30.135 27.497  \n",
       "23498                                                NaN  \n",
       "23499              0.0644 1214.188 497.455 40.208 27.922  \n",
       "23500  0.1031 1190.096 608.460 43.140 45.794 0.0526 1...  \n",
       "\n",
       "[23501 rows x 14 columns]"
      ]
     },
     "execution_count": 2,
     "metadata": {},
     "output_type": "execute_result"
    }
   ],
   "source": [
    "import pandas as pd\n",
    "\n",
    "pd.read_csv(\"./stage_cache/ensemble/test.csv\")"
   ]
  },
  {
   "cell_type": "code",
   "execution_count": 3,
   "id": "836da82c",
   "metadata": {},
   "outputs": [
    {
     "name": "stdout",
     "output_type": "stream",
     "text": [
      "load predict file shape (23501, 14)\n",
      "filter bbox conf lower than 0.000 ...\n"
     ]
    },
    {
     "data": {
      "application/vnd.jupyter.widget-view+json": {
       "model_id": "6d92096664f44bc0abbfdcbda614a4ae",
       "version_major": 2,
       "version_minor": 0
      },
      "text/plain": [
       "0it [00:00, ?it/s]"
      ]
     },
     "metadata": {},
     "output_type": "display_data"
    },
    {
     "name": "stdout",
     "output_type": "stream",
     "text": [
      "tps:75685  fps:122139  fns:44053, p: 0.383, r: 0.632, f2: 0.559\n",
      "F2 score  0.55916\n"
     ]
    },
    {
     "data": {
      "text/plain": [
       "0.5591584216926144"
      ]
     },
     "execution_count": 3,
     "metadata": {},
     "output_type": "execute_result"
    }
   ],
   "source": [
    "from stage_eval import evaluate\n",
    "\n",
    "evaluate(\"./stage_cache/ensemble/test.csv\")"
   ]
  },
  {
   "cell_type": "code",
   "execution_count": 5,
   "id": "ed3613f4",
   "metadata": {},
   "outputs": [
    {
     "name": "stdout",
     "output_type": "stream",
     "text": [
      "load predict file shape (23501, 14)\n",
      "filter bbox conf lower than 0.000 ...\n"
     ]
    },
    {
     "data": {
      "application/vnd.jupyter.widget-view+json": {
       "model_id": "7c9cb71cab37423c8c6620886056ca31",
       "version_major": 2,
       "version_minor": 0
      },
      "text/plain": [
       "0it [00:00, ?it/s]"
      ]
     },
     "metadata": {},
     "output_type": "display_data"
    },
    {
     "name": "stdout",
     "output_type": "stream",
     "text": [
      "tps:76085  fps:377097  fns:50383, p: 0.168, r: 0.602, f2: 0.397\n",
      "F2 score  0.39667\n"
     ]
    },
    {
     "data": {
      "text/plain": [
       "0.3966669238641446"
      ]
     },
     "execution_count": 5,
     "metadata": {},
     "output_type": "execute_result"
    }
   ],
   "source": [
    "evaluate(singles[0])"
   ]
  },
  {
   "cell_type": "code",
   "execution_count": 6,
   "id": "44ebca3a",
   "metadata": {},
   "outputs": [
    {
     "name": "stdout",
     "output_type": "stream",
     "text": [
      "load predict file shape (23501, 14)\n",
      "filter bbox conf lower than 0.000 ...\n"
     ]
    },
    {
     "data": {
      "application/vnd.jupyter.widget-view+json": {
       "model_id": "6ec7c770497044e098ba543b4fc10e88",
       "version_major": 2,
       "version_minor": 0
      },
      "text/plain": [
       "0it [00:00, ?it/s]"
      ]
     },
     "metadata": {},
     "output_type": "display_data"
    },
    {
     "name": "stdout",
     "output_type": "stream",
     "text": [
      "tps:68223  fps:97081  fns:46275, p: 0.413, r: 0.596, f2: 0.547\n",
      "F2 score  0.54728\n"
     ]
    },
    {
     "data": {
      "text/plain": [
       "0.5472760935405533"
      ]
     },
     "execution_count": 6,
     "metadata": {},
     "output_type": "execute_result"
    }
   ],
   "source": [
    "evaluate(singles[1])"
   ]
  },
  {
   "cell_type": "code",
   "execution_count": null,
   "id": "032a07d4",
   "metadata": {},
   "outputs": [],
   "source": []
  }
 ],
 "metadata": {
  "kernelspec": {
   "display_name": "Python [conda env:py38]",
   "language": "python",
   "name": "conda-env-py38-py"
  },
  "language_info": {
   "codemirror_mode": {
    "name": "ipython",
    "version": 3
   },
   "file_extension": ".py",
   "mimetype": "text/x-python",
   "name": "python",
   "nbconvert_exporter": "python",
   "pygments_lexer": "ipython3",
   "version": "3.8.0"
  }
 },
 "nbformat": 4,
 "nbformat_minor": 5
}
