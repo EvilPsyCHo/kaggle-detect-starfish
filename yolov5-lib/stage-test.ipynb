{
 "cells": [
  {
   "cell_type": "markdown",
   "id": "13984504",
   "metadata": {},
   "source": [
    "# Single Model"
   ]
  },
  {
   "cell_type": "code",
   "execution_count": 1,
   "id": "d39a0e41",
   "metadata": {},
   "outputs": [],
   "source": [
    "data0 = \"../input/yolov5_video0/train.csv\"\n",
    "data1 = \"../input/yolov5_video1/train.csv\"\n",
    "data2 = \"../input/yolov5_video2/train.csv\"\n",
    "\n",
    "# cls model\n",
    "cls0 = \"./checkpoints/KH/cls_v2/fold_0_ep_1\"\n",
    "cls1 = \"./checkpoints/KH/cls_v2/fold_1_ep_1\"\n",
    "cls2 = \"./checkpoints/KH/cls_v2/fold_2_ep_1\"\n",
    "\n",
    "# Model 1 : yolov5m6_e5_bs1_lr01_img3000_public\n",
    "m1f0 = \"./checkpoints/KH/20220124/yolov5m6_e5_bs1_lr01_img3000_public_fold0/weights/best.pt\"\n",
    "m1f1 = \"./checkpoints/KH/20220124/yolov5m6_e5_bs1_lr01_img3000_public_fold1/weights/best.pt\"\n",
    "m1f2 = \"./checkpoints/KH/20220124/yolov5m6_e5_bs1_lr01_img3000_public_fold2/weights/best.pt\"\n",
    "\n",
    "# Model 2 : yolov5s6_e5_bs2_lr01_img1280_public\n",
    "m2f0 = \"./checkpoints/KH/20220124/yolov5s6_e5_bs2_lr01_img1280_public_fold0/weights/best.pt\"\n",
    "m2f1 = \"./checkpoints/KH/20220124/yolov5s6_e5_bs2_lr01_img1280_public_fold1/weights/best.pt\"\n",
    "m2f2 = \"./checkpoints/KH/20220124/yolov5s6_e5_bs2_lr01_img1280_public_fold2/weights/best.pt\"\n",
    "\n",
    "# Model 3 : yolov5s6_e5_bs2_lr01_img1920_public\n",
    "m3f0 = \"./checkpoints/KH/20220124/yolov5s6_e5_bs2_lr01_img1920_public_fold0/weights/best.pt\"\n",
    "m3f1 = \"./checkpoints/KH/20220124/yolov5s6_e5_bs2_lr01_img1920_public_fold1/weights/best.pt\"\n",
    "m3f2 = \"./checkpoints/KH/20220124/yolov5s6_e5_bs2_lr01_img1920_public_fold2/weights/best.pt\"\n",
    "\n",
    "# Model 4 : \n",
    "m4f0 = \"./checkpoints/KH/20220124/yolov5s6_e5_bs2_lr01_img3000_public_fold0/weights/best.pt\"\n",
    "m4f1 = \"./checkpoints/KH/20220124/yolov5s6_e5_bs2_lr01_img3000_public_fold1/weights/best.pt\"\n",
    "m4f2 = \"./checkpoints/KH/20220124/yolov5s6_e5_bs2_lr01_img3000_public_fold2/weights/best.pt\""
   ]
  },
  {
   "cell_type": "code",
   "execution_count": 1,
   "id": "8452add0",
   "metadata": {},
   "outputs": [],
   "source": [
    "import os\n",
    "from stage_eval import evaluate\n",
    "from stage_2_ensemble_model import wbf_ensemble\n",
    "from stage_3_tracking import run_track\n",
    "from stage_4_post import run_post\n",
    "import pandas as pd\n",
    "\n",
    "\n",
    "def merge_df(ps, save_name):\n",
    "    dfs = pd.concat([pd.read_csv(p) for p in ps], axis=0).reset_index(drop=True)\n",
    "    dfs.to_csv(save_name, index=None)\n",
    "    for p in ps:\n",
    "        os.remove(p)"
   ]
  },
  {
   "cell_type": "markdown",
   "id": "e0d5512a",
   "metadata": {},
   "source": [
    "## Model 2 - iou 0.2 - conf 0.1 - size 1280 - aug"
   ]
  },
  {
   "cell_type": "code",
   "execution_count": 39,
   "id": "c274d273",
   "metadata": {
    "scrolled": false
   },
   "outputs": [
    {
     "name": "stdout",
     "output_type": "stream",
     "text": [
      "setup env ...\n",
      "load model ...\n",
      "YOLOv5 🚀 c2308b7 torch 1.9.1+cu111 CUDA:0 (NVIDIA GeForce RTX 3090, 24268MiB)\n",
      "\n",
      "Fusing layers... \n",
      "Model Summary: 280 layers, 12308200 parameters, 0 gradients, 16.2 GFLOPs\n",
      "Adding AutoShape... \n",
      "--------------  load yolov5 model ...-----------------\n",
      "NMS IOU 0.2,  NMS CONF 0.1,  MAX_DET 1000\n",
      "Aug True\n",
      "load data ...\n",
      "data shape : (6708, 13)\n",
      "0it [00:00, ?it/s]\n",
      "finished use 5.2 minutes, save in ./stage_cache/single_model/m2/m2f0_sz1280_iou0.2_conf0.1_aug_fold0.csv\n",
      "setup env ...\n",
      "load model ...\n",
      "YOLOv5 🚀 c2308b7 torch 1.9.1+cu111 CUDA:0 (NVIDIA GeForce RTX 3090, 24268MiB)\n",
      "\n",
      "Fusing layers... \n",
      "Model Summary: 280 layers, 12308200 parameters, 0 gradients, 16.2 GFLOPs\n",
      "Adding AutoShape... \n",
      "--------------  load yolov5 model ...-----------------\n",
      "NMS IOU 0.2,  NMS CONF 0.1,  MAX_DET 1000\n",
      "Aug True\n",
      "load data ...\n",
      "data shape : (8232, 13)\n",
      "0it [00:00, ?it/s]\n",
      "finished use 6.4 minutes, save in ./stage_cache/single_model/m2/m2f0_sz1280_iou0.2_conf0.1_aug_fold1.csv\n",
      "setup env ...\n",
      "load model ...\n",
      "YOLOv5 🚀 c2308b7 torch 1.9.1+cu111 CUDA:0 (NVIDIA GeForce RTX 3090, 24268MiB)\n",
      "\n",
      "Fusing layers... \n",
      "Model Summary: 280 layers, 12308200 parameters, 0 gradients, 16.2 GFLOPs\n",
      "Adding AutoShape... \n",
      "--------------  load yolov5 model ...-----------------\n",
      "NMS IOU 0.2,  NMS CONF 0.1,  MAX_DET 1000\n",
      "Aug True\n",
      "load data ...\n",
      "data shape : (8561, 13)\n",
      "0it [00:00, ?it/s]\n",
      "finished use 6.6 minutes, save in ./stage_cache/single_model/m2/m2f0_sz1280_iou0.2_conf0.1_aug_fold2.csv\n"
     ]
    }
   ],
   "source": [
    "!python stage_1_single_model.py \\\n",
    "--ckpt {m2f0} \\\n",
    "--data {data0} \\\n",
    "--size 1280 \\\n",
    "--save \"./stage_cache/single_model/m2/m2f0_sz1280_iou0.2_conf0.1_aug_fold0.csv\" \\\n",
    "--nms_conf 0.1 \\\n",
    "--nms_iou 0.2 \\\n",
    "--aug\n",
    "\n",
    "\n",
    "!python stage_1_single_model.py \\\n",
    "--ckpt {m2f1} \\\n",
    "--data {data1} \\\n",
    "--size 1280 \\\n",
    "--save \"./stage_cache/single_model/m2/m2f0_sz1280_iou0.2_conf0.1_aug_fold1.csv\" \\\n",
    "--nms_conf 0.1 \\\n",
    "--nms_iou 0.2 \\\n",
    "--aug\n",
    "\n",
    "!python stage_1_single_model.py \\\n",
    "--ckpt {m2f2} \\\n",
    "--data {data2} \\\n",
    "--size 1280 \\\n",
    "--save \"./stage_cache/single_model/m2/m2f0_sz1280_iou0.2_conf0.1_aug_fold2.csv\" \\\n",
    "--nms_conf 0.1 \\\n",
    "--nms_iou 0.2 \\\n",
    "--aug"
   ]
  },
  {
   "cell_type": "code",
   "execution_count": 54,
   "id": "d6158426",
   "metadata": {},
   "outputs": [],
   "source": [
    "ps = [\"./stage_cache/single_model/m2/m2f0_sz1280_iou0.2_conf0.1_aug_fold0.csv\", \n",
    "     \"./stage_cache/single_model/m2/m2f0_sz1280_iou0.2_conf0.1_aug_fold1.csv\",\n",
    "     \"./stage_cache/single_model/m2/m2f0_sz1280_iou0.2_conf0.1_aug_fold2.csv\"]\n",
    "\n",
    "merge_df(ps, \"./stage_cache/single_model/m2_sz1280_iou0.2_conf0.1_aug.csv\")"
   ]
  },
  {
   "cell_type": "markdown",
   "id": "53359de4",
   "metadata": {},
   "source": [
    "## Model 2 - iou 0.2 - conf 0.1 - size 2560 - aug"
   ]
  },
  {
   "cell_type": "code",
   "execution_count": 40,
   "id": "1dc9c1e1",
   "metadata": {},
   "outputs": [
    {
     "name": "stdout",
     "output_type": "stream",
     "text": [
      "setup env ...\n",
      "load model ...\n",
      "YOLOv5 🚀 c2308b7 torch 1.9.1+cu111 CUDA:0 (NVIDIA GeForce RTX 3090, 24268MiB)\n",
      "\n",
      "Fusing layers... \n",
      "Model Summary: 280 layers, 12308200 parameters, 0 gradients, 16.2 GFLOPs\n",
      "Adding AutoShape... \n",
      "--------------  load yolov5 model ...-----------------\n",
      "NMS IOU 0.2,  NMS CONF 0.1,  MAX_DET 1000\n",
      "Aug True\n",
      "load data ...\n",
      "data shape : (6708, 13)\n",
      "0it [00:00, ?it/s]\n",
      "finished use 7.3 minutes, save in ./stage_cache/single_model/m2/m2f0_sz2560_iou0.2_conf0.1_aug_fold0.csv\n",
      "setup env ...\n",
      "load model ...\n",
      "YOLOv5 🚀 c2308b7 torch 1.9.1+cu111 CUDA:0 (NVIDIA GeForce RTX 3090, 24268MiB)\n",
      "\n",
      "Fusing layers... \n",
      "Model Summary: 280 layers, 12308200 parameters, 0 gradients, 16.2 GFLOPs\n",
      "Adding AutoShape... \n",
      "--------------  load yolov5 model ...-----------------\n",
      "NMS IOU 0.2,  NMS CONF 0.1,  MAX_DET 1000\n",
      "Aug True\n",
      "load data ...\n",
      "data shape : (8232, 13)\n",
      "0it [00:00, ?it/s]\n",
      "finished use 9.1 minutes, save in ./stage_cache/single_model/m2/m2f0_sz2560_iou0.2_conf0.1_aug_fold1.csv\n",
      "setup env ...\n",
      "load model ...\n",
      "YOLOv5 🚀 c2308b7 torch 1.9.1+cu111 CUDA:0 (NVIDIA GeForce RTX 3090, 24268MiB)\n",
      "\n",
      "Fusing layers... \n",
      "Model Summary: 280 layers, 12308200 parameters, 0 gradients, 16.2 GFLOPs\n",
      "Adding AutoShape... \n",
      "--------------  load yolov5 model ...-----------------\n",
      "NMS IOU 0.2,  NMS CONF 0.1,  MAX_DET 1000\n",
      "Aug True\n",
      "load data ...\n",
      "data shape : (8561, 13)\n",
      "0it [00:00, ?it/s]\n",
      "finished use 9.3 minutes, save in ./stage_cache/single_model/m2/m2f0_sz2560_iou0.2_conf0.1_aug_fold2.csv\n"
     ]
    }
   ],
   "source": [
    "!python stage_1_single_model.py \\\n",
    "--ckpt {m2f0} \\\n",
    "--data {data0} \\\n",
    "--size 2560 \\\n",
    "--save \"./stage_cache/single_model/m2/m2f0_sz2560_iou0.2_conf0.1_aug_fold0.csv\" \\\n",
    "--nms_conf 0.1 \\\n",
    "--nms_iou 0.2 \\\n",
    "--aug\n",
    "\n",
    "\n",
    "!python stage_1_single_model.py \\\n",
    "--ckpt {m2f1} \\\n",
    "--data {data1} \\\n",
    "--size 2560 \\\n",
    "--save \"./stage_cache/single_model/m2/m2f0_sz2560_iou0.2_conf0.1_aug_fold1.csv\" \\\n",
    "--nms_conf 0.1 \\\n",
    "--nms_iou 0.2 \\\n",
    "--aug\n",
    "\n",
    "!python stage_1_single_model.py \\\n",
    "--ckpt {m2f2} \\\n",
    "--data {data2} \\\n",
    "--size 2560 \\\n",
    "--save \"./stage_cache/single_model/m2/m2f0_sz2560_iou0.2_conf0.1_aug_fold2.csv\" \\\n",
    "--nms_conf 0.1 \\\n",
    "--nms_iou 0.2 \\\n",
    "--aug"
   ]
  },
  {
   "cell_type": "code",
   "execution_count": 53,
   "id": "2f3153c5",
   "metadata": {},
   "outputs": [],
   "source": [
    "ps = [\"./stage_cache/single_model/m2/m2f0_sz2560_iou0.2_conf0.1_aug_fold0.csv\", \n",
    "     \"./stage_cache/single_model/m2/m2f0_sz2560_iou0.2_conf0.1_aug_fold1.csv\",\n",
    "     \"./stage_cache/single_model/m2/m2f0_sz2560_iou0.2_conf0.1_aug_fold2.csv\"]\n",
    "\n",
    "merge_df(ps, \"./stage_cache/single_model/m2_sz2560_iou0.2_conf0.1_aug.csv\")"
   ]
  },
  {
   "cell_type": "markdown",
   "id": "9048a885",
   "metadata": {},
   "source": [
    "## Model 2 - iou 0.2 - conf 0.01 - size 1280 - aug"
   ]
  },
  {
   "cell_type": "code",
   "execution_count": 41,
   "id": "067f337a",
   "metadata": {},
   "outputs": [
    {
     "name": "stdout",
     "output_type": "stream",
     "text": [
      "setup env ...\n",
      "load model ...\n",
      "YOLOv5 🚀 c2308b7 torch 1.9.1+cu111 CUDA:0 (NVIDIA GeForce RTX 3090, 24268MiB)\n",
      "\n",
      "Fusing layers... \n",
      "Model Summary: 280 layers, 12308200 parameters, 0 gradients, 16.2 GFLOPs\n",
      "Adding AutoShape... \n",
      "--------------  load yolov5 model ...-----------------\n",
      "NMS IOU 0.2,  NMS CONF 0.01,  MAX_DET 1000\n",
      "Aug True\n",
      "load data ...\n",
      "data shape : (6708, 13)\n",
      "0it [00:00, ?it/s]\n",
      "finished use 5.1 minutes, save in ./stage_cache/single_model/m2/m2f0_sz1280_iou0.2_conf0.01_aug_fold0.csv\n",
      "setup env ...\n",
      "load model ...\n",
      "YOLOv5 🚀 c2308b7 torch 1.9.1+cu111 CUDA:0 (NVIDIA GeForce RTX 3090, 24268MiB)\n",
      "\n",
      "Fusing layers... \n",
      "Model Summary: 280 layers, 12308200 parameters, 0 gradients, 16.2 GFLOPs\n",
      "Adding AutoShape... \n",
      "--------------  load yolov5 model ...-----------------\n",
      "NMS IOU 0.2,  NMS CONF 0.01,  MAX_DET 1000\n",
      "Aug True\n",
      "load data ...\n",
      "data shape : (8232, 13)\n",
      "0it [00:00, ?it/s]\n",
      "finished use 6.3 minutes, save in ./stage_cache/single_model/m2/m2f0_sz1280_iou0.2_conf0.01_aug_fold1.csv\n",
      "setup env ...\n",
      "load model ...\n",
      "YOLOv5 🚀 c2308b7 torch 1.9.1+cu111 CUDA:0 (NVIDIA GeForce RTX 3090, 24268MiB)\n",
      "\n",
      "Fusing layers... \n",
      "Model Summary: 280 layers, 12308200 parameters, 0 gradients, 16.2 GFLOPs\n",
      "Adding AutoShape... \n",
      "--------------  load yolov5 model ...-----------------\n",
      "NMS IOU 0.2,  NMS CONF 0.01,  MAX_DET 1000\n",
      "Aug True\n",
      "load data ...\n",
      "data shape : (8561, 13)\n",
      "0it [00:00, ?it/s]\n",
      "finished use 6.7 minutes, save in ./stage_cache/single_model/m2/m2f0_sz1280_iou0.2_conf0.01_aug_fold2.csv\n"
     ]
    }
   ],
   "source": [
    "!python stage_1_single_model.py \\\n",
    "--ckpt {m2f0} \\\n",
    "--data {data0} \\\n",
    "--size 1280 \\\n",
    "--save \"./stage_cache/single_model/m2/m2f0_sz1280_iou0.2_conf0.01_aug_fold0.csv\" \\\n",
    "--nms_conf 0.01 \\\n",
    "--nms_iou 0.2 \\\n",
    "--aug\n",
    "\n",
    "\n",
    "!python stage_1_single_model.py \\\n",
    "--ckpt {m2f1} \\\n",
    "--data {data1} \\\n",
    "--size 1280 \\\n",
    "--save \"./stage_cache/single_model/m2/m2f0_sz1280_iou0.2_conf0.01_aug_fold1.csv\" \\\n",
    "--nms_conf 0.01 \\\n",
    "--nms_iou 0.2 \\\n",
    "--aug\n",
    "\n",
    "!python stage_1_single_model.py \\\n",
    "--ckpt {m2f2} \\\n",
    "--data {data2} \\\n",
    "--size 1280 \\\n",
    "--save \"./stage_cache/single_model/m2/m2f0_sz1280_iou0.2_conf0.01_aug_fold2.csv\" \\\n",
    "--nms_conf 0.01 \\\n",
    "--nms_iou 0.2 \\\n",
    "--aug"
   ]
  },
  {
   "cell_type": "code",
   "execution_count": 52,
   "id": "5f170eab",
   "metadata": {},
   "outputs": [],
   "source": [
    "ps = [\"./stage_cache/single_model/m2/m2f0_sz1280_iou0.2_conf0.01_aug_fold0.csv\", \n",
    "     \"./stage_cache/single_model/m2/m2f0_sz1280_iou0.2_conf0.01_aug_fold1.csv\",\n",
    "     \"./stage_cache/single_model/m2/m2f0_sz1280_iou0.2_conf0.01_aug_fold2.csv\"]\n",
    "\n",
    "merge_df(ps, \"./stage_cache/single_model/m2_sz1280_iou0.2_conf0.01_aug.csv\")"
   ]
  },
  {
   "cell_type": "markdown",
   "id": "bf5b398e",
   "metadata": {},
   "source": [
    "##  Model 2 - iou 0.2 - conf 0.01 - size 1280 - aug"
   ]
  },
  {
   "cell_type": "code",
   "execution_count": 42,
   "id": "ad1a95e3",
   "metadata": {},
   "outputs": [
    {
     "name": "stdout",
     "output_type": "stream",
     "text": [
      "setup env ...\n",
      "load model ...\n",
      "YOLOv5 🚀 c2308b7 torch 1.9.1+cu111 CUDA:0 (NVIDIA GeForce RTX 3090, 24268MiB)\n",
      "\n",
      "Fusing layers... \n",
      "Model Summary: 280 layers, 12308200 parameters, 0 gradients, 16.2 GFLOPs\n",
      "Adding AutoShape... \n",
      "--------------  load yolov5 model ...-----------------\n",
      "NMS IOU 0.2,  NMS CONF 0.05,  MAX_DET 1000\n",
      "Aug True\n",
      "load data ...\n",
      "data shape : (6708, 13)\n",
      "0it [00:00, ?it/s]\n",
      "finished use 5.0 minutes, save in ./stage_cache/single_model/m2/m2f0_sz1280_iou0.2_conf0.05_aug_fold0.csv\n",
      "setup env ...\n",
      "load model ...\n",
      "YOLOv5 🚀 c2308b7 torch 1.9.1+cu111 CUDA:0 (NVIDIA GeForce RTX 3090, 24268MiB)\n",
      "\n",
      "Fusing layers... \n",
      "Model Summary: 280 layers, 12308200 parameters, 0 gradients, 16.2 GFLOPs\n",
      "Adding AutoShape... \n",
      "--------------  load yolov5 model ...-----------------\n",
      "NMS IOU 0.2,  NMS CONF 0.05,  MAX_DET 1000\n",
      "Aug True\n",
      "load data ...\n",
      "data shape : (8232, 13)\n",
      "0it [00:00, ?it/s]\n",
      "finished use 6.5 minutes, save in ./stage_cache/single_model/m2/m2f0_sz1280_iou0.2_conf0.05_aug_fold1.csv\n",
      "setup env ...\n",
      "load model ...\n",
      "YOLOv5 🚀 c2308b7 torch 1.9.1+cu111 CUDA:0 (NVIDIA GeForce RTX 3090, 24268MiB)\n",
      "\n",
      "Fusing layers... \n",
      "Model Summary: 280 layers, 12308200 parameters, 0 gradients, 16.2 GFLOPs\n",
      "Adding AutoShape... \n",
      "--------------  load yolov5 model ...-----------------\n",
      "NMS IOU 0.2,  NMS CONF 0.05,  MAX_DET 1000\n",
      "Aug True\n",
      "load data ...\n",
      "data shape : (8561, 13)\n",
      "0it [00:00, ?it/s]\n",
      "finished use 6.8 minutes, save in ./stage_cache/single_model/m2/m2f0_sz1280_iou0.2_conf0.05_aug_fold2.csv\n"
     ]
    }
   ],
   "source": [
    "!python stage_1_single_model.py \\\n",
    "--ckpt {m2f0} \\\n",
    "--data {data0} \\\n",
    "--size 1280 \\\n",
    "--save \"./stage_cache/single_model/m2/m2f0_sz1280_iou0.2_conf0.05_aug_fold0.csv\" \\\n",
    "--nms_conf 0.05 \\\n",
    "--nms_iou 0.2 \\\n",
    "--aug\n",
    "\n",
    "\n",
    "!python stage_1_single_model.py \\\n",
    "--ckpt {m2f1} \\\n",
    "--data {data1} \\\n",
    "--size 1280 \\\n",
    "--save \"./stage_cache/single_model/m2/m2f0_sz1280_iou0.2_conf0.05_aug_fold1.csv\" \\\n",
    "--nms_conf 0.05 \\\n",
    "--nms_iou 0.2 \\\n",
    "--aug\n",
    "\n",
    "!python stage_1_single_model.py \\\n",
    "--ckpt {m2f2} \\\n",
    "--data {data2} \\\n",
    "--size 1280 \\\n",
    "--save \"./stage_cache/single_model/m2/m2f0_sz1280_iou0.2_conf0.05_aug_fold2.csv\" \\\n",
    "--nms_conf 0.05 \\\n",
    "--nms_iou 0.2 \\\n",
    "--aug"
   ]
  },
  {
   "cell_type": "code",
   "execution_count": 51,
   "id": "98b518f4",
   "metadata": {},
   "outputs": [],
   "source": [
    "ps = [\"./stage_cache/single_model/m2/m2f0_sz1280_iou0.2_conf0.05_aug_fold0.csv\", \n",
    "     \"./stage_cache/single_model/m2/m2f0_sz1280_iou0.2_conf0.05_aug_fold1.csv\",\n",
    "     \"./stage_cache/single_model/m2/m2f0_sz1280_iou0.2_conf0.05_aug_fold2.csv\"]\n",
    "\n",
    "merge_df(ps, \"./stage_cache/single_model/m2_sz1280_iou0.2_conf0.05_aug.csv\")"
   ]
  },
  {
   "cell_type": "markdown",
   "id": "149dc715",
   "metadata": {},
   "source": [
    "##  Model 2 - iou 0.4 - conf 0.1 - size 1280 - aug"
   ]
  },
  {
   "cell_type": "code",
   "execution_count": 43,
   "id": "6db1e50a",
   "metadata": {},
   "outputs": [
    {
     "name": "stdout",
     "output_type": "stream",
     "text": [
      "setup env ...\n",
      "load model ...\n",
      "YOLOv5 🚀 c2308b7 torch 1.9.1+cu111 CUDA:0 (NVIDIA GeForce RTX 3090, 24268MiB)\n",
      "\n",
      "Fusing layers... \n",
      "Model Summary: 280 layers, 12308200 parameters, 0 gradients, 16.2 GFLOPs\n",
      "Adding AutoShape... \n",
      "--------------  load yolov5 model ...-----------------\n",
      "NMS IOU 0.4,  NMS CONF 0.1,  MAX_DET 1000\n",
      "Aug True\n",
      "load data ...\n",
      "data shape : (6708, 13)\n",
      "0it [00:00, ?it/s]\n",
      "finished use 5.1 minutes, save in ./stage_cache/single_model/m2/m2f0_sz1280_iou0.4_conf0.1_aug_fold0.csv\n",
      "setup env ...\n",
      "load model ...\n",
      "YOLOv5 🚀 c2308b7 torch 1.9.1+cu111 CUDA:0 (NVIDIA GeForce RTX 3090, 24268MiB)\n",
      "\n",
      "Fusing layers... \n",
      "Model Summary: 280 layers, 12308200 parameters, 0 gradients, 16.2 GFLOPs\n",
      "Adding AutoShape... \n",
      "--------------  load yolov5 model ...-----------------\n",
      "NMS IOU 0.4,  NMS CONF 0.1,  MAX_DET 1000\n",
      "Aug True\n",
      "load data ...\n",
      "data shape : (8232, 13)\n",
      "0it [00:00, ?it/s]\n",
      "finished use 6.4 minutes, save in ./stage_cache/single_model/m2/m2f0_sz1280_iou0.4_conf0.1_aug_fold1.csv\n",
      "setup env ...\n",
      "load model ...\n",
      "YOLOv5 🚀 c2308b7 torch 1.9.1+cu111 CUDA:0 (NVIDIA GeForce RTX 3090, 24268MiB)\n",
      "\n",
      "Fusing layers... \n",
      "Model Summary: 280 layers, 12308200 parameters, 0 gradients, 16.2 GFLOPs\n",
      "Adding AutoShape... \n",
      "--------------  load yolov5 model ...-----------------\n",
      "NMS IOU 0.4,  NMS CONF 0.1,  MAX_DET 1000\n",
      "Aug True\n",
      "load data ...\n",
      "data shape : (8561, 13)\n",
      "0it [00:00, ?it/s]\n",
      "finished use 6.9 minutes, save in ./stage_cache/single_model/m2/m2f0_sz1280_iou0.4_conf0.1_aug_fold2.csv\n"
     ]
    }
   ],
   "source": [
    "!python stage_1_single_model.py \\\n",
    "--ckpt {m2f0} \\\n",
    "--data {data0} \\\n",
    "--size 1280 \\\n",
    "--save \"./stage_cache/single_model/m2/m2f0_sz1280_iou0.4_conf0.1_aug_fold0.csv\" \\\n",
    "--nms_conf 0.1 \\\n",
    "--nms_iou 0.4 \\\n",
    "--aug\n",
    "\n",
    "\n",
    "!python stage_1_single_model.py \\\n",
    "--ckpt {m2f1} \\\n",
    "--data {data1} \\\n",
    "--size 1280 \\\n",
    "--save \"./stage_cache/single_model/m2/m2f0_sz1280_iou0.4_conf0.1_aug_fold1.csv\" \\\n",
    "--nms_conf 0.1 \\\n",
    "--nms_iou 0.4 \\\n",
    "--aug\n",
    "\n",
    "!python stage_1_single_model.py \\\n",
    "--ckpt {m2f2} \\\n",
    "--data {data2} \\\n",
    "--size 1280 \\\n",
    "--save \"./stage_cache/single_model/m2/m2f0_sz1280_iou0.4_conf0.1_aug_fold2.csv\" \\\n",
    "--nms_conf 0.1 \\\n",
    "--nms_iou 0.4 \\\n",
    "--aug"
   ]
  },
  {
   "cell_type": "code",
   "execution_count": null,
   "id": "a907b5cc",
   "metadata": {},
   "outputs": [],
   "source": [
    "ps = [\"./stage_cache/single_model/m2/m2f0_sz1280_iou0.4_conf0.1_aug_fold0.csv\", \n",
    "     \"./stage_cache/single_model/m2/m2f0_sz1280_iou0.4_conf0.1_aug_fold1.csv\",\n",
    "     \"./stage_cache/single_model/m2/m2f0_sz1280_iou0.4_conf0.1_aug_fold2.csv\"]\n",
    "\n",
    "merge_df(ps, \"./stage_cache/single_model/m2_sz1280_iou0.4_conf0.1_aug.csv\")"
   ]
  },
  {
   "cell_type": "markdown",
   "id": "6ceb28de",
   "metadata": {},
   "source": [
    "# ensemble"
   ]
  },
  {
   "cell_type": "code",
   "execution_count": 1,
   "id": "5990ae92",
   "metadata": {
    "scrolled": true
   },
   "outputs": [
    {
     "name": "stdout",
     "output_type": "stream",
     "text": [
      "Preds csv shape [(23501, 14), (23501, 14)]\n"
     ]
    },
    {
     "name": "stderr",
     "output_type": "stream",
     "text": [
      "  0%|                                                            | 0/23501 [00:00<?, ?it/s]/home/kky/kaggle/kaggle-detect-starfish/yolov5-lib/stage_2_ensemble_model.py:168: SettingWithCopyWarning: \n",
      "A value is trying to be set on a copy of a slice from a DataFrame\n",
      "\n",
      "See the caveats in the documentation: https://pandas.pydata.org/pandas-docs/stable/user_guide/indexing.html#returning-a-view-versus-a-copy\n",
      "  ensemble_df.preds[r] = format_prediction(esb_bboxes, esb_confs)\n",
      "100%|██████████████████████████████████████████████| 23501/23501 [00:12<00:00, 1893.39it/s]\n"
     ]
    },
    {
     "name": "stdout",
     "output_type": "stream",
     "text": [
      "Save in ./stage_cache/ensemble/test.csv\n"
     ]
    }
   ],
   "source": [
    "singles = [\n",
    "    \"./stage_cache/single_model/m2/m2_sz1280_iou0.2_conf0.01_aug.csv\",\n",
    "    \"./stage_cache/single_model/m2/m2_sz2560_iou0.2_conf0.1_aug.csv\",\n",
    "]\n",
    "对比分析\n",
    "wbf_ensemble(singles, \"./stage_cache/ensemble/test.csv\", wbf_min_conf=0.1)"
   ]
  },
  {
   "cell_type": "code",
   "execution_count": 22,
   "id": "082078f8",
   "metadata": {},
   "outputs": [
    {
     "name": "stdout",
     "output_type": "stream",
     "text": [
      "load predict file shape (23501, 14)\n",
      "filter bbox conf lower than 0.000 ...\n"
     ]
    },
    {
     "data": {
      "application/vnd.jupyter.widget-view+json": {
       "model_id": "a29264c6c4b2461cae5dcd23f3116a40",
       "version_major": 2,
       "version_minor": 0
      },
      "text/plain": [
       "0it [00:00, ?it/s]"
      ]
     },
     "metadata": {},
     "output_type": "display_data"
    },
    {
     "name": "stdout",
     "output_type": "stream",
     "text": [
      "tps:76085  fps:377097  fns:50383, p: 0.168, r: 0.602, f2: 0.397\n",
      "F2 score  0.39667\n"
     ]
    },
    {
     "data": {
      "text/plain": [
       "0.3966669238641446"
      ]
     },
     "execution_count": 22,
     "metadata": {},
     "output_type": "execute_result"
    }
   ],
   "source": [
    "evaluate(\"./stage_cache/single_model/m2/m2_sz1280_iou0.2_conf0.01_aug.csv\")"
   ]
  },
  {
   "cell_type": "code",
   "execution_count": 23,
   "id": "55f1aa5b",
   "metadata": {},
   "outputs": [
    {
     "name": "stdout",
     "output_type": "stream",
     "text": [
      "load predict file shape (23501, 14)\n",
      "filter bbox conf lower than 0.000 ...\n"
     ]
    },
    {
     "data": {
      "application/vnd.jupyter.widget-view+json": {
       "model_id": "0d0fdc552bbf4842b379a9caa9e3f956",
       "version_major": 2,
       "version_minor": 0
      },
      "text/plain": [
       "0it [00:00, ?it/s]"
      ]
     },
     "metadata": {},
     "output_type": "display_data"
    },
    {
     "name": "stdout",
     "output_type": "stream",
     "text": [
      "tps:68223  fps:97081  fns:46275, p: 0.413, r: 0.596, f2: 0.547\n",
      "F2 score  0.54728\n"
     ]
    },
    {
     "data": {
      "text/plain": [
       "0.5472760935405533"
      ]
     },
     "execution_count": 23,
     "metadata": {},
     "output_type": "execute_result"
    }
   ],
   "source": [
    "evaluate(\"./stage_cache/single_model/m2/m2_sz2560_iou0.2_conf0.1_aug.csv\")"
   ]
  },
  {
   "cell_type": "code",
   "execution_count": 24,
   "id": "c46e3c9a",
   "metadata": {},
   "outputs": [
    {
     "name": "stdout",
     "output_type": "stream",
     "text": [
      "load predict file shape (23501, 14)\n",
      "filter bbox conf lower than 0.000 ...\n"
     ]
    },
    {
     "data": {
      "application/vnd.jupyter.widget-view+json": {
       "model_id": "0bf723188c1d46f5a4b9f20fb26f4654",
       "version_major": 2,
       "version_minor": 0
      },
      "text/plain": [
       "0it [00:00, ?it/s]"
      ]
     },
     "metadata": {},
     "output_type": "display_data"
    },
    {
     "name": "stdout",
     "output_type": "stream",
     "text": [
      "tps:75685  fps:122139  fns:44053, p: 0.383, r: 0.632, f2: 0.559\n",
      "F2 score  0.55916\n"
     ]
    },
    {
     "data": {
      "text/plain": [
       "0.5591584216926144"
      ]
     },
     "execution_count": 24,
     "metadata": {},
     "output_type": "execute_result"
    }
   ],
   "source": [
    "evaluate(\"./stage_cache/ensemble/test.csv\")"
   ]
  },
  {
   "cell_type": "markdown",
   "id": "9317f110",
   "metadata": {},
   "source": [
    "# Tracking"
   ]
  },
  {
   "cell_type": "code",
   "execution_count": 3,
   "id": "1d56fbe5",
   "metadata": {},
   "outputs": [
    {
     "name": "stderr",
     "output_type": "stream",
     "text": [
      "23501it [00:09, 2491.71it/s]\n"
     ]
    },
    {
     "name": "stdout",
     "output_type": "stream",
     "text": [
      "Add 13779 bbox to predict, result save in ./stage_cache/track/test.csv\n"
     ]
    }
   ],
   "source": [
    "run_track(\"./stage_cache/ensemble/test.csv\", \"./stage_cache/track/test.csv\")"
   ]
  },
  {
   "cell_type": "code",
   "execution_count": 4,
   "id": "c4bba822",
   "metadata": {},
   "outputs": [
    {
     "name": "stdout",
     "output_type": "stream",
     "text": [
      "load predict file shape (23501, 14)\n",
      "filter bbox conf lower than 0.000 ...\n"
     ]
    },
    {
     "data": {
      "application/vnd.jupyter.widget-view+json": {
       "model_id": "b0e905052c1942409661849b5565e392",
       "version_major": 2,
       "version_minor": 0
      },
      "text/plain": [
       "0it [00:00, ?it/s]"
      ]
     },
     "metadata": {},
     "output_type": "display_data"
    },
    {
     "name": "stdout",
     "output_type": "stream",
     "text": [
      "tps:78521  fps:185692  fns:44787, p: 0.297, r: 0.637, f2: 0.518\n",
      "F2 score  0.51833\n"
     ]
    },
    {
     "data": {
      "text/plain": [
       "0.5183280634230626"
      ]
     },
     "execution_count": 4,
     "metadata": {},
     "output_type": "execute_result"
    }
   ],
   "source": [
    "evaluate(\"./stage_cache/track/test.csv\")"
   ]
  },
  {
   "cell_type": "markdown",
   "id": "7f2925ae",
   "metadata": {},
   "source": [
    "# Post"
   ]
  },
  {
   "cell_type": "code",
   "execution_count": 2,
   "id": "3aa5597f",
   "metadata": {},
   "outputs": [
    {
     "name": "stdout",
     "output_type": "stream",
     "text": [
      "process video 0 ...\n"
     ]
    },
    {
     "data": {
      "application/vnd.jupyter.widget-view+json": {
       "model_id": "7f66100259ba422b9c7f4b3b5d400886",
       "version_major": 2,
       "version_minor": 0
      },
      "text/plain": [
       "0it [00:00, ?it/s]"
      ]
     },
     "metadata": {},
     "output_type": "display_data"
    },
    {
     "name": "stdout",
     "output_type": "stream",
     "text": [
      "process video 1 ...\n"
     ]
    },
    {
     "data": {
      "application/vnd.jupyter.widget-view+json": {
       "model_id": "da3aab45757840d79a49c3636a37a33c",
       "version_major": 2,
       "version_minor": 0
      },
      "text/plain": [
       "0it [00:00, ?it/s]"
      ]
     },
     "metadata": {},
     "output_type": "display_data"
    },
    {
     "name": "stdout",
     "output_type": "stream",
     "text": [
      "process video 2 ...\n"
     ]
    },
    {
     "data": {
      "application/vnd.jupyter.widget-view+json": {
       "model_id": "672bd0fba86a463aa6a6cee8b410191d",
       "version_major": 2,
       "version_minor": 0
      },
      "text/plain": [
       "0it [00:00, ?it/s]"
      ]
     },
     "metadata": {},
     "output_type": "display_data"
    },
    {
     "name": "stdout",
     "output_type": "stream",
     "text": [
      "Finished, post model drop 76.9% bbox in totle 49703\n",
      "load predict file shape (23501, 14)\n",
      "filter bbox conf lower than 0.000 ...\n"
     ]
    },
    {
     "data": {
      "application/vnd.jupyter.widget-view+json": {
       "model_id": "4a48366dc5d5443ea4f9b732b80693cc",
       "version_major": 2,
       "version_minor": 0
      },
      "text/plain": [
       "0it [00:00, ?it/s]"
      ]
     },
     "metadata": {},
     "output_type": "display_data"
    },
    {
     "name": "stdout",
     "output_type": "stream",
     "text": [
      "tps:76535  fps:33170  fns:40903, p: 0.698, r: 0.652, f2: 0.660\n",
      "F2 score  0.66040\n"
     ]
    },
    {
     "data": {
      "text/plain": [
       "0.6604027563724998"
      ]
     },
     "execution_count": 2,
     "metadata": {},
     "output_type": "execute_result"
    }
   ],
   "source": [
    "# cls0 = \"./checkpoints/KH/cls_v2/fold_0_ep_1\"\n",
    "# cls1 = \"./checkpoints/KH/cls_v2/fold_1_ep_1\"\n",
    "# cls2 = \"./checkpoints/KH/cls_v2/fold_2_ep_1\"\n",
    "# models = [cls0, cls1, cls2]\n",
    "\n",
    "cls_old = \"./checkpoints/KH/swin_large_patch4_window7_224_oof_cls/fold_1_ep_1\"\n",
    "models = [cls_old, cls_old, cls_old]\n",
    "run_post(\"./stage_cache/track/test.csv\", models, \"./stage_cache/post/test.csv\", CLS_CONF=0.2)\n",
    "evaluate(\"./stage_cache/post/test.csv\")"
   ]
  },
  {
   "cell_type": "code",
   "execution_count": null,
   "id": "3a0d21e5",
   "metadata": {},
   "outputs": [],
   "source": []
  }
 ],
 "metadata": {
  "kernelspec": {
   "display_name": "Python 3 (ipykernel)",
   "language": "python",
   "name": "python3"
  },
  "language_info": {
   "codemirror_mode": {
    "name": "ipython",
    "version": 3
   },
   "file_extension": ".py",
   "mimetype": "text/x-python",
   "name": "python",
   "nbconvert_exporter": "python",
   "pygments_lexer": "ipython3",
   "version": "3.8.0"
  }
 },
 "nbformat": 4,
 "nbformat_minor": 5
}
