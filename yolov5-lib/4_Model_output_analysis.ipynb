{
 "cells": [
  {
   "cell_type": "code",
   "execution_count": 279,
   "id": "3155fde2",
   "metadata": {},
   "outputs": [],
   "source": [
    "import numpy as np\n",
    "from tqdm.notebook import tqdm\n",
    "tqdm.pandas()\n",
    "import pandas as pd\n",
    "import os\n",
    "import cv2\n",
    "import matplotlib.pyplot as plt\n",
    "import glob\n",
    "import torch\n",
    "import shutil\n",
    "import sys\n",
    "import random\n",
    "from joblib import Parallel, delayed\n",
    "from IPython.display import display, HTML\n",
    "from matplotlib import animation, rc\n",
    "from pathlib import Path\n",
    "import seaborn as sns\n",
    "\n",
    "sys.path.append('../input/tensorflow-great-barrier-reef')\n",
    "rc('animation', html='jshtml')\n",
    "%matplotlib inline"
   ]
  },
  {
   "cell_type": "code",
   "execution_count": 239,
   "id": "99ff26e3",
   "metadata": {},
   "outputs": [],
   "source": [
    "def get_bbox(annots):\n",
    "    bboxes = [list(annot.values()) for annot in annots]\n",
    "    return bboxes"
   ]
  },
  {
   "cell_type": "code",
   "execution_count": 240,
   "id": "5fe39cf7",
   "metadata": {},
   "outputs": [],
   "source": [
    "pred = pd.read_csv(\"./cv/yolov5s6_img1280_tracker_postcls/pred.csv\")\n",
    "pred['annotations'] = pred['annotations'].apply(eval).apply(get_bbox)"
   ]
  },
  {
   "cell_type": "code",
   "execution_count": 241,
   "id": "ebdbdf02",
   "metadata": {},
   "outputs": [],
   "source": [
    "CONF = 0.15\n",
    "\n",
    "def process_pred(x):\n",
    "    if isinstance(x, list):\n",
    "        pred = []\n",
    "        x = np.array(x).reshape(-1, 5).astype(\"float\")\n",
    "        for idx in range(len(x)):\n",
    "            if x[idx, 0] > CONF:\n",
    "                pred.append(x[idx, 1:].tolist())\n",
    "        return pred\n",
    "    return []"
   ]
  },
  {
   "cell_type": "code",
   "execution_count": 242,
   "id": "d9e9029c",
   "metadata": {},
   "outputs": [],
   "source": [
    "pred['pred'] = pred['pred'].str.split(\" \").apply(process_pred)"
   ]
  },
  {
   "cell_type": "code",
   "execution_count": 243,
   "id": "34baddad",
   "metadata": {},
   "outputs": [],
   "source": [
    "def calc_iou(bboxes1, bboxes2, bbox_mode='xywh'):\n",
    "    # xmin ymin weight height\n",
    "    assert len(bboxes1.shape) == 2 and bboxes1.shape[1] == 4\n",
    "    assert len(bboxes2.shape) == 2 and bboxes2.shape[1] == 4\n",
    "    \n",
    "    bboxes1 = bboxes1.copy()\n",
    "    bboxes2 = bboxes2.copy()\n",
    "    \n",
    "    if bbox_mode == 'xywh':\n",
    "        bboxes1[:, 2:] += bboxes1[:, :2]\n",
    "        bboxes2[:, 2:] += bboxes2[:, :2]\n",
    "\n",
    "    x11, y11, x12, y12 = np.split(bboxes1, 4, axis=1)\n",
    "    x21, y21, x22, y22 = np.split(bboxes2, 4, axis=1)\n",
    "    xA = np.maximum(x11, np.transpose(x21))\n",
    "    yA = np.maximum(y11, np.transpose(y21))\n",
    "    xB = np.minimum(x12, np.transpose(x22))\n",
    "    yB = np.minimum(y12, np.transpose(y22))\n",
    "    interArea = np.maximum((xB - xA + 1), 0) * np.maximum((yB - yA + 1), 0)\n",
    "    boxAArea = (x12 - x11 + 1) * (y12 - y11 + 1)\n",
    "    boxBArea = (x22 - x21 + 1) * (y22 - y21 + 1)\n",
    "    iou = interArea / (boxAArea + np.transpose(boxBArea) - interArea)\n",
    "    return iou"
   ]
  },
  {
   "cell_type": "code",
   "execution_count": 256,
   "id": "28d3d441",
   "metadata": {},
   "outputs": [],
   "source": [
    "from tqdm import tqdm\n",
    "\n",
    "IOU = 0.2\n",
    "def gr_track_analysis(gts, preds):\n",
    "    gt_track = []\n",
    "    cache = []\n",
    "    cnt = 0\n",
    "    for step, (gt, pred) in tqdm(enumerate(zip(gts, preds)), total=len(gts)):\n",
    "        gt = np.array(gt)\n",
    "        pred = np.array(pred)\n",
    "        \n",
    "        # not gt in current and last frame\n",
    "        if (len(gt) == 0) and (len(cache) == 0):\n",
    "            continue\n",
    "        \n",
    "        # No new gt\n",
    "        if len(gt) == 0:\n",
    "            gt_track.extend([cache.pop() for _ in range(len(cache))])\n",
    "            continue\n",
    "        \n",
    "        # No old gt\n",
    "        if len(cache) == 0:\n",
    "            for idx in range(len(gt)):\n",
    "                cache.append([gt[idx], []])\n",
    "        else:\n",
    "            last_gt_iou = calc_iou(np.array([b for b,_ in cache]), gt)\n",
    "\n",
    "            # update gt bbox coordinate\n",
    "            keep_gt = np.where(np.max(last_gt_iou, 1) >= IOU)[0].tolist()\n",
    "            update  = np.argmax(last_gt_iou, 1)[keep_gt].tolist()\n",
    "\n",
    "            for keep_idx, update_idx in zip(keep_gt, update):\n",
    "                cache[keep_idx][0] = gt[update_idx]\n",
    "\n",
    "            # drop missing gt bbox\n",
    "            new_cache = []\n",
    "            for i in range(len(cache)):\n",
    "                c = cache[i].copy()\n",
    "                if i in keep_gt:\n",
    "                    new_cache.append(c)\n",
    "                else:\n",
    "                    gt_track.append(c)\n",
    "            cache = new_cache\n",
    "\n",
    "            # add new gt bbox\n",
    "            new_gt = np.where(np.max(last_gt_iou, 0) < IOU)[0].tolist()\n",
    "            for new in new_gt:\n",
    "                cache.append([gt[new], []])\n",
    "        \n",
    "        # update track\n",
    "        \n",
    "        if len(pred) == 0:\n",
    "            for i in range(len(cache)):\n",
    "                cache[i][1].append(0)\n",
    "            continue\n",
    "        \n",
    "        \n",
    "        track_iou = calc_iou(np.array([b for b,_ in cache]), pred)\n",
    "        for idx, (iou, _) in enumerate(zip(np.max(track_iou, 1), np.max(track_iou, 1))):\n",
    "            if iou >= 0.4:\n",
    "                cache[idx][1].append(1)\n",
    "            else:\n",
    "                cache[idx][1].append(0)\n",
    "    \n",
    "    gt_track.extend([cache.pop() for _ in range(len(cache))])\n",
    "    return gt_track"
   ]
  },
  {
   "cell_type": "code",
   "execution_count": 257,
   "id": "ecc5122c",
   "metadata": {},
   "outputs": [
    {
     "name": "stderr",
     "output_type": "stream",
     "text": [
      "100%|███████████████████████████████████████████████| 8232/8232 [00:00<00:00, 22785.23it/s]\n"
     ]
    }
   ],
   "source": [
    "gt_track = gr_track_analysis(pred.annotations, pred.pred)"
   ]
  },
  {
   "cell_type": "code",
   "execution_count": 272,
   "id": "58550198",
   "metadata": {},
   "outputs": [],
   "source": [
    "gt_track = [t for t in gt_track if len(t[1])>1]"
   ]
  },
  {
   "cell_type": "code",
   "execution_count": 273,
   "id": "ba120615",
   "metadata": {},
   "outputs": [
    {
     "data": {
      "text/plain": [
       "Text(0.5, 1.0, 'Track hit ratio')"
      ]
     },
     "execution_count": 273,
     "metadata": {},
     "output_type": "execute_result"
    },
    {
     "data": {
      "image/png": "[encoded data removed]",
      "text/plain": [
       "<Figure size 432x288 with 1 Axes>"
      ]
     },
     "metadata": {
      "needs_background": "light"
     },
     "output_type": "display_data"
    }
   ],
   "source": [
    "track_ratio = np.array([np.mean(t[1]) for t in gt_track])\n",
    "_ = plt.hist(track_ratio, bins=40)\n",
    "plt.title(\"Track hit ratio\")"
   ]
  },
  {
   "cell_type": "code",
   "execution_count": 274,
   "id": "caa50b6f",
   "metadata": {},
   "outputs": [
    {
     "data": {
      "text/plain": [
       "Text(0.5, 1.0, 'Track lens')"
      ]
     },
     "execution_count": 274,
     "metadata": {},
     "output_type": "execute_result"
    },
    {
     "data": {
      "image/png": "[encoded data removed]",
      "text/plain": [
       "<Figure size 432x288 with 1 Axes>"
      ]
     },
     "metadata": {
      "needs_background": "light"
     },
     "output_type": "display_data"
    }
   ],
   "source": [
    "track_lens  =  np.array([len(t[1]) for t in gt_track])\n",
    "_ = plt.hist(track_lens, bins=40)\n",
    "plt.title(\"Track lens\")"
   ]
  },
  {
   "cell_type": "code",
   "execution_count": 275,
   "id": "03ab26b9",
   "metadata": {},
   "outputs": [
    {
     "data": {
      "text/plain": [
       "0.5157076205287714"
      ]
     },
     "execution_count": 275,
     "metadata": {},
     "output_type": "execute_result"
    }
   ],
   "source": [
    "# over all FP / (FP + FN)\n",
    "\n",
    "np.sum(track_ratio * track_lens) / np.sum(track_lens)"
   ]
  },
  {
   "cell_type": "code",
   "execution_count": 278,
   "id": "8c14537e",
   "metadata": {},
   "outputs": [],
   "source": [
    "bbox = np.array([t[0] for t in gt_track])\n",
    "area = bbox[:, 2] * bbox[:, 3]"
   ]
  },
  {
   "cell_type": "code",
   "execution_count": 281,
   "id": "a414cbd2",
   "metadata": {},
   "outputs": [
    {
     "data": {
      "text/plain": [
       "Text(0.5, 1.0, 'Area vs Hit Ratio')"
      ]
     },
     "execution_count": 281,
     "metadata": {},
     "output_type": "execute_result"
    },
    {
     "data": {
      "image/png": "[encoded data removed]",
      "text/plain": [
       "<Figure size 432x288 with 1 Axes>"
      ]
     },
     "metadata": {
      "needs_background": "light"
     },
     "output_type": "display_data"
    }
   ],
   "source": [
    "plt.scatter(area, track_ratio)\n",
    "plt.title(\"Area vs Hit Ratio\")"
   ]
  },
  {
   "cell_type": "code",
   "execution_count": 290,
   "id": "4112250f",
   "metadata": {},
   "outputs": [
    {
     "data": {
      "text/plain": [
       "<matplotlib.collections.PathCollection at 0x7f3527d70bb0>"
      ]
     },
     "execution_count": 290,
     "metadata": {},
     "output_type": "execute_result"
    },
    {
     "data": {
      "image/png": "[encoded data removed]",
      "text/plain": [
       "<Figure size 432x288 with 1 Axes>"
      ]
     },
     "metadata": {
      "needs_background": "light"
     },
     "output_type": "display_data"
    }
   ],
   "source": [
    "plt.scatter(bbox[:,0], bbox[:,1])"
   ]
  },
  {
   "cell_type": "code",
   "execution_count": 289,
   "id": "478eb84c",
   "metadata": {},
   "outputs": [
    {
     "name": "stderr",
     "output_type": "stream",
     "text": [
      "/home/kky/miniconda3/envs/py38/lib/python3.8/site-packages/seaborn/_decorators.py:36: FutureWarning: Pass the following variables as keyword args: x, y. From version 0.12, the only valid positional argument will be `data`, and passing other arguments without an explicit keyword will result in an error or misinterpretation.\n",
      "  warnings.warn(\n"
     ]
    },
    {
     "data": {
      "text/plain": [
       "<AxesSubplot:>"
      ]
     },
     "execution_count": 289,
     "metadata": {},
     "output_type": "execute_result"
    },
    {
     "data": {
      "image/png": "[encoded data removed]",
      "text/plain": [
       "<Figure size 432x288 with 1 Axes>"
      ]
     },
     "metadata": {
      "needs_background": "light"
     },
     "output_type": "display_data"
    }
   ],
   "source": [
    "sns.regplot(bbox[:, 0], track_ratio)"
   ]
  },
  {
   "cell_type": "code",
   "execution_count": 288,
   "id": "e242525f",
   "metadata": {},
   "outputs": [
    {
     "name": "stderr",
     "output_type": "stream",
     "text": [
      "/home/kky/miniconda3/envs/py38/lib/python3.8/site-packages/seaborn/_decorators.py:36: FutureWarning: Pass the following variables as keyword args: x, y. From version 0.12, the only valid positional argument will be `data`, and passing other arguments without an explicit keyword will result in an error or misinterpretation.\n",
      "  warnings.warn(\n"
     ]
    },
    {
     "data": {
      "text/plain": [
       "<AxesSubplot:>"
      ]
     },
     "execution_count": 288,
     "metadata": {},
     "output_type": "execute_result"
    },
    {
     "data": {
      "image/png": "[encoded data removed]",
      "text/plain": [
       "<Figure size 432x288 with 1 Axes>"
      ]
     },
     "metadata": {
      "needs_background": "light"
     },
     "output_type": "display_data"
    }
   ],
   "source": [
    "sns.regplot(bbox[:, 1], track_ratio)"
   ]
  },
  {
   "cell_type": "code",
   "execution_count": 296,
   "id": "2f997222",
   "metadata": {},
   "outputs": [],
   "source": [
    "track = [t[1] for t in gt_track]\n",
    "first_hit = [t.index(1) if 1 in t else -1 for t in track]"
   ]
  },
  {
   "cell_type": "code",
   "execution_count": 298,
   "id": "1d27f049",
   "metadata": {},
   "outputs": [
    {
     "data": {
      "text/plain": [
       "-1     62\n",
       " 0     58\n",
       " 1     29\n",
       " 3      9\n",
       " 4      7\n",
       " 9      5\n",
       " 7      4\n",
       " 2      4\n",
       " 13     4\n",
       " 8      3\n",
       " 24     3\n",
       " 11     3\n",
       " 16     3\n",
       " 5      3\n",
       " 6      2\n",
       " 14     2\n",
       " 15     2\n",
       " 17     2\n",
       " 26     2\n",
       " 42     2\n",
       " 12     2\n",
       " 31     1\n",
       " 57     1\n",
       " 10     1\n",
       " 18     1\n",
       " 45     1\n",
       " 65     1\n",
       " 20     1\n",
       " 59     1\n",
       " 35     1\n",
       " 19     1\n",
       " 29     1\n",
       "dtype: int64"
      ]
     },
     "execution_count": 298,
     "metadata": {},
     "output_type": "execute_result"
    }
   ],
   "source": [
    "pd.Series(first_hit).value_counts().s"
   ]
  },
  {
   "cell_type": "code",
   "execution_count": null,
   "id": "c109f55c",
   "metadata": {},
   "outputs": [],
   "source": []
  }
 ],
 "metadata": {
  "kernelspec": {
   "display_name": "Python [conda env:py38]",
   "language": "python",
   "name": "conda-env-py38-py"
  },
  "language_info": {
   "codemirror_mode": {
    "name": "ipython",
    "version": 3
   },
   "file_extension": ".py",
   "mimetype": "text/x-python",
   "name": "python",
   "nbconvert_exporter": "python",
   "pygments_lexer": "ipython3",
   "version": "3.8.0"
  }
 },
 "nbformat": 4,
 "nbformat_minor": 5
}
