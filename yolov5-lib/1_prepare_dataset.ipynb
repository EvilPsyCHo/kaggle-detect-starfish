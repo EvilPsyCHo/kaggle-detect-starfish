{
 "cells": [
  {
   "cell_type": "code",
   "execution_count": 1,
   "id": "5fdad327",
   "metadata": {},
   "outputs": [],
   "source": [
    "import numpy as np\n",
    "from tqdm.notebook import tqdm\n",
    "tqdm.pandas()\n",
    "import pandas as pd\n",
    "import os\n",
    "import cv2\n",
    "import matplotlib.pyplot as plt\n",
    "import glob\n",
    "import torch\n",
    "import shutil\n",
    "import sys\n",
    "import random\n",
    "from joblib import Parallel, delayed\n",
    "from IPython.display import display, HTML\n",
    "from matplotlib import animation, rc\n",
    "from pathlib import Path\n",
    "\n",
    "sys.path.append('../input/tensorflow-great-barrier-reef')\n",
    "rc('animation', html='jshtml')"
   ]
  },
  {
   "cell_type": "code",
   "execution_count": 2,
   "id": "aa95c41b",
   "metadata": {},
   "outputs": [],
   "source": [
    "!pip install -qU bbox-utility"
   ]
  },
  {
   "cell_type": "code",
   "execution_count": 3,
   "id": "0f31c1cb",
   "metadata": {},
   "outputs": [],
   "source": [
    "# check https://github.com/awsaf49/bbox for source code of following utility functions\n",
    "from bbox.utils import coco2yolo, coco2voc, voc2yolo\n",
    "from bbox.utils import draw_bboxes, load_image\n",
    "from bbox.utils import clip_bbox, str2annot, annot2str"
   ]
  },
  {
   "cell_type": "markdown",
   "id": "db214ba7",
   "metadata": {},
   "source": [
    "# 1. sequence split"
   ]
  },
  {
   "cell_type": "code",
   "execution_count": 36,
   "id": "6ec1cb00",
   "metadata": {},
   "outputs": [],
   "source": [
    "FOLD      = 1\n",
    "DIM       = 1280\n",
    "RANDOM_SEED  = 42\n",
    "NOBBOX = 0.5\n",
    "SOURCE_DIR  = '../input/tensorflow-great-barrier-reef/'\n",
    "DATA_DIR = f'../input/yolov5_public_fold{FOLD}_nobbox{int(NOBBOX*100):}%/'"
   ]
  },
  {
   "cell_type": "code",
   "execution_count": 37,
   "id": "86e5a6a8",
   "metadata": {},
   "outputs": [],
   "source": [
    "(Path(DATA_DIR) / \"images/train\").mkdir(parents=True, exist_ok=True)\n",
    "(Path(DATA_DIR) / \"images/val\").mkdir(parents=True, exist_ok=True)\n",
    "(Path(DATA_DIR) / \"labels/train\").mkdir(parents=True, exist_ok=True)\n",
    "(Path(DATA_DIR) / \"labels/val\").mkdir(parents=True, exist_ok=True)"
   ]
  },
  {
   "cell_type": "code",
   "execution_count": 38,
   "id": "7eac5d52",
   "metadata": {},
   "outputs": [],
   "source": [
    "def seed_everything(seed):\n",
    "    random.seed(seed)\n",
    "    os.environ['PYTHONHASHSEED'] = str(seed)\n",
    "    np.random.seed(seed)\n",
    "    torch.manual_seed(seed)\n",
    "    torch.cuda.manual_seed(seed)\n",
    "    torch.backends.cudnn.deterministic = True\n",
    "\n",
    "seed_everything(RANDOM_SEED)"
   ]
  },
  {
   "cell_type": "code",
   "execution_count": 39,
   "id": "9e1169c2",
   "metadata": {},
   "outputs": [
    {
     "data": {
      "application/vnd.jupyter.widget-view+json": {
       "model_id": "70181320dcd2439085d1613944b88752",
       "version_major": 2,
       "version_minor": 0
      },
      "text/plain": [
       "  0%|          | 0/23501 [00:00<?, ?it/s]"
      ]
     },
     "metadata": {},
     "output_type": "display_data"
    },
    {
     "name": "stdout",
     "output_type": "stream",
     "text": [
      "No BBox: 79.07% | With BBox: 20.93%\n"
     ]
    }
   ],
   "source": [
    "# Train Data\n",
    "df = pd.read_csv(f'{SOURCE_DIR}train.csv')\n",
    "df['old_image_path'] = f'{SOURCE_DIR}train_images/video_'+df.video_id.astype(str)+'/'+df.video_frame.astype(str)+'.jpg'\n",
    "df['annotations'] = df['annotations'].apply(eval)\n",
    "df['num_bbox'] = df['annotations'].progress_apply(lambda x: len(x))\n",
    "data = (df.num_bbox>0).value_counts(normalize=True)*100\n",
    "print(f\"No BBox: {data[0]:0.2f}% | With BBox: {data[1]:0.2f}%\")"
   ]
  },
  {
   "cell_type": "code",
   "execution_count": 40,
   "id": "9fc00646",
   "metadata": {},
   "outputs": [],
   "source": [
    "# Drop nobbox images\n",
    "df['num_annotations'] = df['annotations'].apply(len)\n",
    "\n",
    "\n",
    "sub1 = df.loc[df.num_annotations > 0].copy()\n",
    "sub2 = df.loc[df.num_annotations == 0].copy()\n",
    "\n",
    "sub2 = sub2.sample(frac=NOBBOX, random_state=RANDOM_SEED, replace=False)\n",
    "df = pd.concat([sub1, sub2], axis=0)\n",
    "\n",
    "df = df.reset_index(drop=True)"
   ]
  },
  {
   "cell_type": "code",
   "execution_count": 41,
   "id": "f330e9b2",
   "metadata": {},
   "outputs": [],
   "source": [
    "def get_bbox(annots):\n",
    "    bboxes = [list(annot.values()) for annot in annots]\n",
    "    return bboxes\n",
    "\n",
    "def get_imgsize(row):\n",
    "    row['width'], row['height'] = imagesize.get(row['image_path'])\n",
    "    return row\n",
    "\n",
    "colors = [(np.random.randint(255), np.random.randint(255), np.random.randint(255))\\\n",
    "          for idx in range(1)]"
   ]
  },
  {
   "cell_type": "code",
   "execution_count": 42,
   "id": "7a234a12",
   "metadata": {},
   "outputs": [
    {
     "data": {
      "application/vnd.jupyter.widget-view+json": {
       "model_id": "12b2471945a9418e895b307731e61d1e",
       "version_major": 2,
       "version_minor": 0
      },
      "text/plain": [
       "  0%|          | 0/14210 [00:00<?, ?it/s]"
      ]
     },
     "metadata": {},
     "output_type": "display_data"
    }
   ],
   "source": [
    "df['bboxes'] = df.annotations.progress_apply(get_bbox)\n",
    "df['width']  = 1280\n",
    "df['height'] = 720"
   ]
  },
  {
   "cell_type": "code",
   "execution_count": 43,
   "id": "a29209e7",
   "metadata": {},
   "outputs": [],
   "source": [
    "folds = pd.read_csv(\"../input/train-5folds.csv\")\n",
    "df = df.merge(folds[['image_id', 'fold']], how='left')"
   ]
  },
  {
   "cell_type": "code",
   "execution_count": 44,
   "id": "e46ab2ae",
   "metadata": {},
   "outputs": [],
   "source": [
    "df['fold'] = df['video_id'].apply(lambda x: 'train' if x != FOLD else 'val')"
   ]
  },
  {
   "cell_type": "code",
   "execution_count": 45,
   "id": "99df1941",
   "metadata": {},
   "outputs": [],
   "source": [
    "df['image_path'] = f'{DATA_DIR}'+ 'images/'+ df.fold + '/' + df.image_id+'.jpg'\n",
    "df['label_path'] = f'{DATA_DIR}'+ 'labels/'+ df.fold + '/' + df.image_id+'.txt'"
   ]
  },
  {
   "cell_type": "code",
   "execution_count": 46,
   "id": "d9959819",
   "metadata": {},
   "outputs": [],
   "source": [
    "df.to_csv(DATA_DIR + \"train.csv\")"
   ]
  },
  {
   "cell_type": "code",
   "execution_count": 47,
   "id": "a18fc2cc",
   "metadata": {},
   "outputs": [
    {
     "data": {
      "application/vnd.jupyter.widget-view+json": {
       "model_id": "cdfce279ea66445b9d3088c4c01ddde4",
       "version_major": 2,
       "version_minor": 0
      },
      "text/plain": [
       "  0%|          | 0/14210 [00:00<?, ?it/s]"
      ]
     },
     "metadata": {},
     "output_type": "display_data"
    },
    {
     "name": "stdout",
     "output_type": "stream",
     "text": [
      "Missing: 9291\n"
     ]
    },
    {
     "data": {
      "application/vnd.jupyter.widget-view+json": {
       "model_id": "53a8fb21b0b44beca9dd5b198388989b",
       "version_major": 2,
       "version_minor": 0
      },
      "text/plain": [
       "  0%|          | 0/14210 [00:00<?, ?it/s]"
      ]
     },
     "metadata": {},
     "output_type": "display_data"
    }
   ],
   "source": [
    "cnt = 0\n",
    "all_bboxes = []\n",
    "bboxes_info = []\n",
    "for row_idx in tqdm(range(df.shape[0])):\n",
    "    row = df.iloc[row_idx]\n",
    "    image_height = row.height\n",
    "    image_width  = row.width\n",
    "    bboxes_coco  = np.array(row.bboxes).astype(np.float32).copy()\n",
    "    num_bbox     = len(bboxes_coco)\n",
    "    names        = ['cots']*num_bbox\n",
    "    labels       = np.array([0]*num_bbox)[..., None].astype(str)\n",
    "    ## Create Annotation(YOLO)\n",
    "    with open(row.label_path, 'w') as f:\n",
    "        if num_bbox<1:\n",
    "            annot = ''\n",
    "            f.write(annot)\n",
    "            cnt+=1\n",
    "            continue\n",
    "        bboxes_voc  = coco2voc(bboxes_coco, image_height, image_width)\n",
    "        bboxes_voc  = clip_bbox(bboxes_voc, image_height, image_width)\n",
    "        bboxes_yolo = voc2yolo(bboxes_voc, image_height, image_width).astype(str)\n",
    "        all_bboxes.extend(bboxes_yolo.astype(float))\n",
    "        bboxes_info.extend([[row.image_id, row.video_id, row.sequence]]*len(bboxes_yolo))\n",
    "        annots = np.concatenate([labels, bboxes_yolo], axis=1)\n",
    "        string = annot2str(annots)\n",
    "        f.write(string)\n",
    "print('Missing:',cnt)\n",
    "\n",
    "def make_copy(row):\n",
    "    shutil.copyfile(row.old_image_path, row.image_path)\n",
    "    return\n",
    "\n",
    "\n",
    "image_paths = df.old_image_path.tolist()\n",
    "_ = Parallel(n_jobs=-1, backend='threading')(delayed(make_copy)(row) for _, row in tqdm(df.iterrows(), total=len(df)))"
   ]
  },
  {
   "cell_type": "code",
   "execution_count": 48,
   "id": "06f593d4",
   "metadata": {},
   "outputs": [
    {
     "name": "stdout",
     "output_type": "stream",
     "text": [
      "Writing ../input/yolov5_public_fold1_nobbox50%/data.yaml\n"
     ]
    }
   ],
   "source": [
    "%%writefile ../input/yolov5_public_fold{FOLD}_nobbox{int(NOBBOX*100):}%/data.yaml\n",
    "\n",
    "path: ../input/yolov5_public_fold1  # dataset root dir\n",
    "train: images/train  # train images (relative to 'path') 128 images\n",
    "val: images/val  # val images (relative to 'path') 128 images\n",
    "test:  # test images (optional)\n",
    "\n",
    "# Classes\n",
    "nc: 1  # number of classes\n",
    "names: ['cots']  # class names"
   ]
  },
  {
   "cell_type": "markdown",
   "id": "602e7491",
   "metadata": {},
   "source": [
    "# 2. video split"
   ]
  },
  {
   "cell_type": "code",
   "execution_count": 72,
   "id": "d3ba3e7f",
   "metadata": {},
   "outputs": [],
   "source": [
    "VIDEO    = 0\n",
    "SOURCE_DIR  = '../input/tensorflow-great-barrier-reef/'\n",
    "DATA_DIR = f'../input/yolov5_video{VIDEO}/'"
   ]
  },
  {
   "cell_type": "code",
   "execution_count": 73,
   "id": "6850abae",
   "metadata": {},
   "outputs": [],
   "source": [
    "train = pd.read_csv(SOURCE_DIR + 'train.csv')\n",
    "train['pos'] = train.annotations != '[]'"
   ]
  },
  {
   "cell_type": "code",
   "execution_count": 74,
   "id": "12682c38",
   "metadata": {},
   "outputs": [],
   "source": [
    "train['fold'] = train['video_id'].apply(lambda x: \"val\" if x == VIDEO else \"train\")"
   ]
  },
  {
   "cell_type": "code",
   "execution_count": 75,
   "id": "62344150",
   "metadata": {},
   "outputs": [
    {
     "data": {
      "text/html": [
       "<div>\n",
       "<style scoped>\n",
       "    .dataframe tbody tr th:only-of-type {\n",
       "        vertical-align: middle;\n",
       "    }\n",
       "\n",
       "    .dataframe tbody tr th {\n",
       "        vertical-align: top;\n",
       "    }\n",
       "\n",
       "    .dataframe thead th {\n",
       "        text-align: right;\n",
       "    }\n",
       "</style>\n",
       "<table border=\"1\" class=\"dataframe\">\n",
       "  <thead>\n",
       "    <tr style=\"text-align: right;\">\n",
       "      <th></th>\n",
       "      <th>video_id</th>\n",
       "      <th>sequence</th>\n",
       "      <th>video_frame</th>\n",
       "      <th>sequence_frame</th>\n",
       "      <th>image_id</th>\n",
       "      <th>annotations</th>\n",
       "      <th>pos</th>\n",
       "      <th>fold</th>\n",
       "    </tr>\n",
       "  </thead>\n",
       "  <tbody>\n",
       "    <tr>\n",
       "      <th>0</th>\n",
       "      <td>0</td>\n",
       "      <td>40258</td>\n",
       "      <td>0</td>\n",
       "      <td>0</td>\n",
       "      <td>0-0</td>\n",
       "      <td>[]</td>\n",
       "      <td>False</td>\n",
       "      <td>val</td>\n",
       "    </tr>\n",
       "    <tr>\n",
       "      <th>1</th>\n",
       "      <td>0</td>\n",
       "      <td>40258</td>\n",
       "      <td>1</td>\n",
       "      <td>1</td>\n",
       "      <td>0-1</td>\n",
       "      <td>[]</td>\n",
       "      <td>False</td>\n",
       "      <td>val</td>\n",
       "    </tr>\n",
       "    <tr>\n",
       "      <th>2</th>\n",
       "      <td>0</td>\n",
       "      <td>40258</td>\n",
       "      <td>2</td>\n",
       "      <td>2</td>\n",
       "      <td>0-2</td>\n",
       "      <td>[]</td>\n",
       "      <td>False</td>\n",
       "      <td>val</td>\n",
       "    </tr>\n",
       "    <tr>\n",
       "      <th>3</th>\n",
       "      <td>0</td>\n",
       "      <td>40258</td>\n",
       "      <td>3</td>\n",
       "      <td>3</td>\n",
       "      <td>0-3</td>\n",
       "      <td>[]</td>\n",
       "      <td>False</td>\n",
       "      <td>val</td>\n",
       "    </tr>\n",
       "    <tr>\n",
       "      <th>4</th>\n",
       "      <td>0</td>\n",
       "      <td>40258</td>\n",
       "      <td>4</td>\n",
       "      <td>4</td>\n",
       "      <td>0-4</td>\n",
       "      <td>[]</td>\n",
       "      <td>False</td>\n",
       "      <td>val</td>\n",
       "    </tr>\n",
       "  </tbody>\n",
       "</table>\n",
       "</div>"
      ],
      "text/plain": [
       "   video_id  sequence  video_frame  sequence_frame image_id annotations  \\\n",
       "0         0     40258            0               0      0-0          []   \n",
       "1         0     40258            1               1      0-1          []   \n",
       "2         0     40258            2               2      0-2          []   \n",
       "3         0     40258            3               3      0-3          []   \n",
       "4         0     40258            4               4      0-4          []   \n",
       "\n",
       "     pos fold  \n",
       "0  False  val  \n",
       "1  False  val  \n",
       "2  False  val  \n",
       "3  False  val  \n",
       "4  False  val  "
      ]
     },
     "execution_count": 75,
     "metadata": {},
     "output_type": "execute_result"
    }
   ],
   "source": [
    "train.head()"
   ]
  },
  {
   "cell_type": "code",
   "execution_count": 77,
   "id": "883cb5f5",
   "metadata": {},
   "outputs": [],
   "source": [
    "!mkdir -p {DATA_DIR}/images/val\n",
    "!mkdir -p {DATA_DIR}/images/train\n",
    "\n",
    "!mkdir -p {DATA_DIR}/labels/val\n",
    "!mkdir -p {DATA_DIR}/labels/train"
   ]
  },
  {
   "cell_type": "code",
   "execution_count": 78,
   "id": "5c6434e9",
   "metadata": {},
   "outputs": [],
   "source": [
    "train.to_csv(DATA_DIR+\"train.csv\", index=None)"
   ]
  },
  {
   "cell_type": "code",
   "execution_count": null,
   "id": "39f96b6c",
   "metadata": {},
   "outputs": [],
   "source": [
    "from shutil import copyfile\n",
    "fold = VIDEO\n",
    "\n",
    "annos = []\n",
    "for i, x in train.iterrows():\n",
    "    if x.video_id == fold:\n",
    "        mode = 'val'\n",
    "    else:\n",
    "        # train\n",
    "        mode = 'train'\n",
    "        if not x.pos: continue\n",
    "        # val\n",
    "    copyfile(f'../input/tensorflow-great-barrier-reef/train_images/video_{x.video_id}/{x.video_frame}.jpg',\n",
    "                f'{DATA_DIR}/images/{mode}/{x.image_id}.jpg')\n",
    "    if not x.pos:\n",
    "        continue\n",
    "    r = ''\n",
    "    anno = eval(x.annotations)\n",
    "    for an in anno:\n",
    "#            annos.append(an)\n",
    "        r += '0 {} {} {} {}\\n'.format((an['x'] + an['width'] / 2) / 1280,\n",
    "                                        (an['y'] + an['height'] / 2) / 720,\n",
    "                                        an['width'] / 1280, an['height'] / 720)\n",
    "    with open(f'{DATA_DIR}/labels/{mode}/{x.image_id}.txt', 'w') as fp:\n",
    "        fp.write(r)"
   ]
  },
  {
   "cell_type": "code",
   "execution_count": 71,
   "id": "c7e0d178",
   "metadata": {},
   "outputs": [
    {
     "name": "stdout",
     "output_type": "stream",
     "text": [
      "Overwriting ../input/yolov5_video1//data.yaml\n"
     ]
    }
   ],
   "source": [
    "%%writefile {DATA_DIR}/data.yaml\n",
    "\n",
    "path: '../input/yolov5_video0/'  # dataset root dir\n",
    "train: images/train  # train images (relative to 'path') 128 images\n",
    "val: images/val  # val images (relative to 'path') 128 images\n",
    "test:  # test images (optional)\n",
    "\n",
    "# Classes\n",
    "nc: 1  # number of classes\n",
    "names: ['cots']  # class names"
   ]
  },
  {
   "cell_type": "code",
   "execution_count": null,
   "id": "941de44e",
   "metadata": {},
   "outputs": [],
   "source": []
  }
 ],
 "metadata": {
  "kernelspec": {
   "display_name": "Python [conda env:py38]",
   "language": "python",
   "name": "conda-env-py38-py"
  },
  "language_info": {
   "codemirror_mode": {
    "name": "ipython",
    "version": 3
   },
   "file_extension": ".py",
   "mimetype": "text/x-python",
   "name": "python",
   "nbconvert_exporter": "python",
   "pygments_lexer": "ipython3",
   "version": "3.8.0"
  }
 },
 "nbformat": 4,
 "nbformat_minor": 5
}
