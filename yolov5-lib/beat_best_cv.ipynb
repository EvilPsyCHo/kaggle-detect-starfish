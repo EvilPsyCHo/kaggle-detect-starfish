{
 "cells": [
  {
   "cell_type": "code",
   "execution_count": 20,
   "id": "87077159",
   "metadata": {},
   "outputs": [],
   "source": [
    "data0 = \"../input/yolov5_video0/train.csv\"\n",
    "data1 = \"../input/yolov5_video1/train.csv\"\n",
    "data2 = \"../input/yolov5_video2/train.csv\"\n",
    "data = [data0, data1, data2]\n",
    "\n",
    "# cls model\n",
    "cls0 = \"./checkpoints/KH/cls_v2/fold_0_ep_1\"\n",
    "cls1 = \"./checkpoints/KH/cls_v2/fold_1_ep_1\"\n",
    "cls2 = \"./checkpoints/KH/cls_v2/fold_2_ep_1\"\n",
    "\n",
    "cls = [cls0, cls1, cls2]\n",
    "\n",
    "# Model 1 : yolov5m6_e5_bs1_lr01_img3000_public\n",
    "m1f0 = \"./checkpoints/KH/20220124/yolov5m6_e5_bs1_lr01_img3000_public_fold0/weights/best.pt\"\n",
    "m1f1 = \"./checkpoints/KH/20220124/yolov5m6_e5_bs1_lr01_img3000_public_fold1/weights/best.pt\"\n",
    "m1f2 = \"./checkpoints/KH/20220124/yolov5m6_e5_bs1_lr01_img3000_public_fold2/weights/best.pt\"\n",
    "\n",
    "m1 = [m1f0, m1f1, m1f2]\n",
    "\n",
    "# Model 2 : yolov5s6_e5_bs2_lr01_img1280_public\n",
    "m2f0 = \"./checkpoints/KH/20220124/yolov5s6_e5_bs2_lr01_img1280_public_fold0/weights/best.pt\"\n",
    "m2f1 = \"./checkpoints/KH/20220124/yolov5s6_e5_bs2_lr01_img1280_public_fold1/weights/best.pt\"\n",
    "m2f2 = \"./checkpoints/KH/20220124/yolov5s6_e5_bs2_lr01_img1280_public_fold2/weights/best.pt\"\n",
    "\n",
    "m2 = [m2f0, m2f1, m2f2]\n",
    "\n",
    "# Model 3 : yolov5s6_e5_bs2_lr01_img1920_public\n",
    "m3f0 = \"./checkpoints/KH/20220124/yolov5s6_e5_bs2_lr01_img1920_public_fold0/weights/best.pt\"\n",
    "m3f1 = \"./checkpoints/KH/20220124/yolov5s6_e5_bs2_lr01_img1920_public_fold1/weights/best.pt\"\n",
    "m3f2 = \"./checkpoints/KH/20220124/yolov5s6_e5_bs2_lr01_img1920_public_fold2/weights/best.pt\"\n",
    "\n",
    "m3 = [m3f0, m3f1, m3f2]\n",
    "\n",
    "# Model 4 : \n",
    "m4f0 = \"./checkpoints/KH/20220124/yolov5s6_e5_bs2_lr01_img3000_public_fold0/weights/best.pt\"\n",
    "m4f1 = \"./checkpoints/KH/20220124/yolov5s6_e5_bs2_lr01_img3000_public_fold1/weights/best.pt\"\n",
    "m4f2 = \"./checkpoints/KH/20220124/yolov5s6_e5_bs2_lr01_img3000_public_fold2/weights/best.pt\"\n",
    "\n",
    "m4 = [m4f0, m4f1, m4f2]\n",
    "\n",
    "\n"
   ]
  },
  {
   "cell_type": "code",
   "execution_count": 7,
   "id": "263615d7",
   "metadata": {},
   "outputs": [],
   "source": [
    "from stage_1_single_model import run_single_model\n",
    "from stage_2_ensemble_model import wbf_ensemble\n",
    "from stage_3_tracking import run_track\n",
    "from stage_4_post import run_post\n",
    "from stage_eval import evaluate"
   ]
  },
  {
   "cell_type": "markdown",
   "id": "04149322",
   "metadata": {},
   "source": [
    "# Model 1"
   ]
  },
  {
   "cell_type": "code",
   "execution_count": null,
   "id": "88e03966",
   "metadata": {},
   "outputs": [],
   "source": [
    "run_single_model(m1, data, \"./stage_cache/single_model/m1/m1_sz3600_nmsconf0.01_nmsiou0.2.csv\", 3600, 0.01, 0.2, False)\n",
    "run_single_model(m1, data, \"./stage_cache/single_model/m1/m1_sz2988_nmsconf0.01_nmsiou0.2.csv\", 2988, 0.01, 0.2, False)\n",
    "run_single_model(m1, data, \"./stage_cache/single_model/m1/m1_sz2412_nmsconf0.01_nmsiou0.2.csv\", 2412, 0.01, 0.2, False)"
   ]
  },
  {
   "cell_type": "code",
   "execution_count": 8,
   "id": "a04fd2d1",
   "metadata": {},
   "outputs": [
    {
     "name": "stdout",
     "output_type": "stream",
     "text": [
      "load predict file shape (23501, 14)\n",
      "filter bbox conf lower than 0.000 ...\n"
     ]
    },
    {
     "data": {
      "application/vnd.jupyter.widget-view+json": {
       "model_id": "9bf79dfca8154ae6b015334595c6abd2",
       "version_major": 2,
       "version_minor": 0
      },
      "text/plain": [
       "0it [00:00, ?it/s]"
      ]
     },
     "metadata": {},
     "output_type": "display_data"
    },
    {
     "name": "stdout",
     "output_type": "stream",
     "text": [
      "tps:88370  fps:98198  fns:38188, p: 0.474, r: 0.698, f2: 0.638\n",
      "F2 score  0.63777\n"
     ]
    },
    {
     "data": {
      "text/plain": [
       "0.6377742494217122"
      ]
     },
     "execution_count": 8,
     "metadata": {},
     "output_type": "execute_result"
    }
   ],
   "source": [
    "evaluate(\"./stage_cache/single_model/m1/m1_sz3600_nmsconf0.01_nmsiou0.2.csv\")"
   ]
  },
  {
   "cell_type": "code",
   "execution_count": 9,
   "id": "2f7941e0",
   "metadata": {},
   "outputs": [
    {
     "name": "stdout",
     "output_type": "stream",
     "text": [
      "load predict file shape (23501, 14)\n",
      "filter bbox conf lower than 0.000 ...\n"
     ]
    },
    {
     "data": {
      "application/vnd.jupyter.widget-view+json": {
       "model_id": "fe98ba7653a6424193bb124c1e328880",
       "version_major": 2,
       "version_minor": 0
      },
      "text/plain": [
       "0it [00:00, ?it/s]"
      ]
     },
     "metadata": {},
     "output_type": "display_data"
    },
    {
     "name": "stdout",
     "output_type": "stream",
     "text": [
      "tps:87940  fps:68398  fns:37618, p: 0.562, r: 0.700, f2: 0.668\n",
      "F2 score  0.66766\n"
     ]
    },
    {
     "data": {
      "text/plain": [
       "0.6676587150938129"
      ]
     },
     "execution_count": 9,
     "metadata": {},
     "output_type": "execute_result"
    }
   ],
   "source": [
    "evaluate(\"./stage_cache/single_model/m1/m1_sz2988_nmsconf0.01_nmsiou0.2.csv\")"
   ]
  },
  {
   "cell_type": "code",
   "execution_count": 10,
   "id": "9ba376c0",
   "metadata": {},
   "outputs": [
    {
     "name": "stdout",
     "output_type": "stream",
     "text": [
      "load predict file shape (23501, 14)\n",
      "filter bbox conf lower than 0.000 ...\n"
     ]
    },
    {
     "data": {
      "application/vnd.jupyter.widget-view+json": {
       "model_id": "4241e1a1a7454784a5554c26cabf1c14",
       "version_major": 2,
       "version_minor": 0
      },
      "text/plain": [
       "0it [00:00, ?it/s]"
      ]
     },
     "metadata": {},
     "output_type": "display_data"
    },
    {
     "name": "stdout",
     "output_type": "stream",
     "text": [
      "tps:83361  fps:52106  fns:40297, p: 0.615, r: 0.674, f2: 0.661\n",
      "F2 score  0.66149\n"
     ]
    },
    {
     "data": {
      "text/plain": [
       "0.6614912894629867"
      ]
     },
     "execution_count": 10,
     "metadata": {},
     "output_type": "execute_result"
    }
   ],
   "source": [
    "evaluate(\"./stage_cache/single_model/m1/m1_sz2412_nmsconf0.01_nmsiou0.2.csv\")"
   ]
  },
  {
   "cell_type": "code",
   "execution_count": 18,
   "id": "8d19c407",
   "metadata": {},
   "outputs": [
    {
     "name": "stdout",
     "output_type": "stream",
     "text": [
      "Preds csv shape [(23501, 14), (23501, 14), (23501, 14)]\n"
     ]
    },
    {
     "name": "stderr",
     "output_type": "stream",
     "text": [
      "100%|███████████████████████████████████| 23501/23501 [00:14<00:00, 1598.56it/s]\n"
     ]
    },
    {
     "name": "stdout",
     "output_type": "stream",
     "text": [
      "Save in ./stage_cache/ensemble/m1_beat_best_cv.csv\n",
      "load predict file shape (23501, 14)\n",
      "filter bbox conf lower than 0.000 ...\n"
     ]
    },
    {
     "data": {
      "application/vnd.jupyter.widget-view+json": {
       "model_id": "35678af8a29b4e8784a987911b6ec170",
       "version_major": 2,
       "version_minor": 0
      },
      "text/plain": [
       "0it [00:00, ?it/s]"
      ]
     },
     "metadata": {},
     "output_type": "display_data"
    },
    {
     "name": "stdout",
     "output_type": "stream",
     "text": [
      "tps:94227  fps:139056  fns:34091, p: 0.404, r: 0.734, f2: 0.631\n",
      "F2 score  0.63108\n"
     ]
    },
    {
     "data": {
      "text/plain": [
       "0.6310787550808298"
      ]
     },
     "execution_count": 18,
     "metadata": {},
     "output_type": "execute_result"
    }
   ],
   "source": [
    "inputs = [\"./stage_cache/single_model/m1/m1_sz3600_nmsconf0.01_nmsiou0.2.csv\",\n",
    "         \"./stage_cache/single_model/m1/m1_sz2988_nmsconf0.01_nmsiou0.2.csv\",\n",
    "         \"./stage_cache/single_model/m1/m1_sz2412_nmsconf0.01_nmsiou0.2.csv\"]\n",
    "\n",
    "wbf_ensemble(inputs, \"./stage_cache/ensemble/m1_beat_best_cv.csv\", wbf_min_conf=0.01)\n",
    "evaluate(\"./stage_cache/ensemble/m1_beat_best_cv.csv\")"
   ]
  },
  {
   "cell_type": "code",
   "execution_count": 21,
   "id": "456cf696",
   "metadata": {},
   "outputs": [
    {
     "name": "stdout",
     "output_type": "stream",
     "text": [
      "process video 0 ...\n"
     ]
    },
    {
     "data": {
      "application/vnd.jupyter.widget-view+json": {
       "model_id": "02afb237e7564ecb86d80a2aecaf0cdf",
       "version_major": 2,
       "version_minor": 0
      },
      "text/plain": [
       "0it [00:00, ?it/s]"
      ]
     },
     "metadata": {},
     "output_type": "display_data"
    },
    {
     "name": "stdout",
     "output_type": "stream",
     "text": [
      "process video 1 ...\n"
     ]
    },
    {
     "data": {
      "application/vnd.jupyter.widget-view+json": {
       "model_id": "263d7348c43241989272c3307f2fe38e",
       "version_major": 2,
       "version_minor": 0
      },
      "text/plain": [
       "0it [00:00, ?it/s]"
      ]
     },
     "metadata": {},
     "output_type": "display_data"
    },
    {
     "name": "stdout",
     "output_type": "stream",
     "text": [
      "process video 2 ...\n"
     ]
    },
    {
     "data": {
      "application/vnd.jupyter.widget-view+json": {
       "model_id": "6dad8295c7c64fa8864daadc99e0a675",
       "version_major": 2,
       "version_minor": 0
      },
      "text/plain": [
       "0it [00:00, ?it/s]"
      ]
     },
     "metadata": {},
     "output_type": "display_data"
    },
    {
     "name": "stdout",
     "output_type": "stream",
     "text": [
      "Finished, post model drop 68.1% bbox in totle 35683\n",
      "load predict file shape (23501, 14)\n",
      "filter bbox conf lower than 0.000 ...\n"
     ]
    },
    {
     "data": {
      "application/vnd.jupyter.widget-view+json": {
       "model_id": "3c49c6c0389347669a497888df424605",
       "version_major": 2,
       "version_minor": 0
      },
      "text/plain": [
       "0it [00:00, ?it/s]"
      ]
     },
     "metadata": {},
     "output_type": "display_data"
    },
    {
     "name": "stdout",
     "output_type": "stream",
     "text": [
      "tps:87003  fps:26126  fns:35715, p: 0.769, r: 0.709, f2: 0.720\n",
      "F2 score  0.72022\n"
     ]
    },
    {
     "data": {
      "text/plain": [
       "0.7202223175115269"
      ]
     },
     "execution_count": 21,
     "metadata": {},
     "output_type": "execute_result"
    }
   ],
   "source": [
    "run_post(\"./stage_cache/ensemble/m1_beat_best_cv.csv\", cls, \"./stage_cache/post/m1_beat_best_cv.csv\", CLS_CONF=0.2)\n",
    "evaluate(\"./stage_cache/post/m1_beat_best_cv.csv\")"
   ]
  },
  {
   "cell_type": "code",
   "execution_count": null,
   "id": "5f0a81a4",
   "metadata": {},
   "outputs": [],
   "source": []
  }
 ],
 "metadata": {
  "kernelspec": {
   "display_name": "Python 3 (ipykernel)",
   "language": "python",
   "name": "python3"
  },
  "language_info": {
   "codemirror_mode": {
    "name": "ipython",
    "version": 3
   },
   "file_extension": ".py",
   "mimetype": "text/x-python",
   "name": "python",
   "nbconvert_exporter": "python",
   "pygments_lexer": "ipython3",
   "version": "3.8.0"
  }
 },
 "nbformat": 4,
 "nbformat_minor": 5
}
